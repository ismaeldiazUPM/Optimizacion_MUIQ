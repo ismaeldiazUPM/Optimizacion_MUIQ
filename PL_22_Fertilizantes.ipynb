{
 "cells": [
  {
   "cell_type": "markdown",
   "metadata": {},
   "source": [
    "### Ejercicio 22: Fertilizantes"
   ]
  },
  {
   "cell_type": "markdown",
   "metadata": {},
   "source": [
    "Una empresa de fertilizantes dispone de ciertas cantidades de nitrato, fosfato y potasa indicadas en la tabla adjunta que utiliza para fabricar tres tipos de fertilizantes A, B y C mezclandolos\n",
    "con un producto base del que dispone de cantidades en exceso. Las composiciones de cada uno de\n",
    "los fertizantes figuran tambien en la tabla adjunta, así como los precios de venta de los fertizantes\n",
    "A, B y C. El costo de realizar la mezcla, embalaje y venta son iguales para los tres y ascienden a 6\n",
    "=C/Tm. Si la empresa por determinadas razones no puede producir mas de 6000 Tm del producto\n",
    "A y sabe que el mercado no está saturado, se desea calcular cuanto fertilizante de cada tipo debe\n",
    "fabricar y cuanta materia prima utilizar para obtener el máximo beneficio en un cierto periodo\n",
    "de tiempo. ¿Cuál es el beneficio óptimo\n"
   ]
  },
  {
   "cell_type": "markdown",
   "metadata": {},
   "source": [
    "#### Importamos Pyomo"
   ]
  },
  {
   "cell_type": "code",
   "execution_count": 103,
   "metadata": {},
   "outputs": [],
   "source": [
    "from pyomo.environ import *\n",
    "import pandas as pd\n",
    "import numpy as np\n"
   ]
  },
  {
   "cell_type": "code",
   "execution_count": 104,
   "metadata": {},
   "outputs": [
    {
     "data": {
      "text/html": [
       "<div>\n",
       "<style scoped>\n",
       "    .dataframe tbody tr th:only-of-type {\n",
       "        vertical-align: middle;\n",
       "    }\n",
       "\n",
       "    .dataframe tbody tr th {\n",
       "        vertical-align: top;\n",
       "    }\n",
       "\n",
       "    .dataframe thead th {\n",
       "        text-align: right;\n",
       "    }\n",
       "</style>\n",
       "<table border=\"1\" class=\"dataframe\">\n",
       "  <thead>\n",
       "    <tr style=\"text-align: right;\">\n",
       "      <th></th>\n",
       "      <th>Nitrato</th>\n",
       "      <th>Fosfato</th>\n",
       "      <th>Potasa</th>\n",
       "      <th>Base</th>\n",
       "    </tr>\n",
       "  </thead>\n",
       "  <tbody>\n",
       "    <tr>\n",
       "      <th>A</th>\n",
       "      <td>0.05</td>\n",
       "      <td>0.1</td>\n",
       "      <td>0.05</td>\n",
       "      <td>0.80</td>\n",
       "    </tr>\n",
       "    <tr>\n",
       "      <th>B</th>\n",
       "      <td>0.05</td>\n",
       "      <td>0.1</td>\n",
       "      <td>0.10</td>\n",
       "      <td>0.75</td>\n",
       "    </tr>\n",
       "    <tr>\n",
       "      <th>C</th>\n",
       "      <td>0.10</td>\n",
       "      <td>0.1</td>\n",
       "      <td>0.10</td>\n",
       "      <td>0.70</td>\n",
       "    </tr>\n",
       "  </tbody>\n",
       "</table>\n",
       "</div>"
      ],
      "text/plain": [
       "   Nitrato  Fosfato  Potasa  Base\n",
       "A     0.05      0.1    0.05  0.80\n",
       "B     0.05      0.1    0.10  0.75\n",
       "C     0.10      0.1    0.10  0.70"
      ]
     },
     "execution_count": 104,
     "metadata": {},
     "output_type": "execute_result"
    }
   ],
   "source": [
    "df_comp = pd.DataFrame({'Nitrato': [0.05,0.05,0.1],'Fosfato': [0.1,0.1,0.1],'Potasa':[0.05,0.1,0.1],'Base':[0.8,0.75,0.70]}, index = ['A','B','C'])\n",
    "df_comp "
   ]
  },
  {
   "cell_type": "code",
   "execution_count": 105,
   "metadata": {},
   "outputs": [
    {
     "data": {
      "text/html": [
       "<div>\n",
       "<style scoped>\n",
       "    .dataframe tbody tr th:only-of-type {\n",
       "        vertical-align: middle;\n",
       "    }\n",
       "\n",
       "    .dataframe tbody tr th {\n",
       "        vertical-align: top;\n",
       "    }\n",
       "\n",
       "    .dataframe thead th {\n",
       "        text-align: right;\n",
       "    }\n",
       "</style>\n",
       "<table border=\"1\" class=\"dataframe\">\n",
       "  <thead>\n",
       "    <tr style=\"text-align: right;\">\n",
       "      <th></th>\n",
       "      <th>Precio</th>\n",
       "    </tr>\n",
       "  </thead>\n",
       "  <tbody>\n",
       "    <tr>\n",
       "      <th>A</th>\n",
       "      <td>16</td>\n",
       "    </tr>\n",
       "    <tr>\n",
       "      <th>B</th>\n",
       "      <td>20</td>\n",
       "    </tr>\n",
       "    <tr>\n",
       "      <th>C</th>\n",
       "      <td>24</td>\n",
       "    </tr>\n",
       "  </tbody>\n",
       "</table>\n",
       "</div>"
      ],
      "text/plain": [
       "   Precio\n",
       "A      16\n",
       "B      20\n",
       "C      24"
      ]
     },
     "execution_count": 105,
     "metadata": {},
     "output_type": "execute_result"
    }
   ],
   "source": [
    "df_precio = pd.DataFrame({'Precio': [16,20,24]}, index = ['A','B','C'])\n",
    "df_precio"
   ]
  },
  {
   "cell_type": "code",
   "execution_count": 106,
   "metadata": {},
   "outputs": [
    {
     "data": {
      "text/html": [
       "<div>\n",
       "<style scoped>\n",
       "    .dataframe tbody tr th:only-of-type {\n",
       "        vertical-align: middle;\n",
       "    }\n",
       "\n",
       "    .dataframe tbody tr th {\n",
       "        vertical-align: top;\n",
       "    }\n",
       "\n",
       "    .dataframe thead th {\n",
       "        text-align: right;\n",
       "    }\n",
       "</style>\n",
       "<table border=\"1\" class=\"dataframe\">\n",
       "  <thead>\n",
       "    <tr style=\"text-align: right;\">\n",
       "      <th></th>\n",
       "      <th>Disp</th>\n",
       "    </tr>\n",
       "  </thead>\n",
       "  <tbody>\n",
       "    <tr>\n",
       "      <th>Nitrato</th>\n",
       "      <td>1000</td>\n",
       "    </tr>\n",
       "    <tr>\n",
       "      <th>Fosfato</th>\n",
       "      <td>1800</td>\n",
       "    </tr>\n",
       "    <tr>\n",
       "      <th>Potasa</th>\n",
       "      <td>1200</td>\n",
       "    </tr>\n",
       "    <tr>\n",
       "      <th>Base</th>\n",
       "      <td>99990</td>\n",
       "    </tr>\n",
       "  </tbody>\n",
       "</table>\n",
       "</div>"
      ],
      "text/plain": [
       "          Disp\n",
       "Nitrato   1000\n",
       "Fosfato   1800\n",
       "Potasa    1200\n",
       "Base     99990"
      ]
     },
     "execution_count": 106,
     "metadata": {},
     "output_type": "execute_result"
    }
   ],
   "source": [
    "df_disp = pd.DataFrame({'Disp': [1000,1800,1200,99990]}, index = ['Nitrato','Fosfato','Potasa','Base'])\n",
    "df_disp"
   ]
  },
  {
   "cell_type": "code",
   "execution_count": 107,
   "metadata": {},
   "outputs": [
    {
     "data": {
      "text/html": [
       "<div>\n",
       "<style scoped>\n",
       "    .dataframe tbody tr th:only-of-type {\n",
       "        vertical-align: middle;\n",
       "    }\n",
       "\n",
       "    .dataframe tbody tr th {\n",
       "        vertical-align: top;\n",
       "    }\n",
       "\n",
       "    .dataframe thead th {\n",
       "        text-align: right;\n",
       "    }\n",
       "</style>\n",
       "<table border=\"1\" class=\"dataframe\">\n",
       "  <thead>\n",
       "    <tr style=\"text-align: right;\">\n",
       "      <th></th>\n",
       "      <th>Coste</th>\n",
       "    </tr>\n",
       "  </thead>\n",
       "  <tbody>\n",
       "    <tr>\n",
       "      <th>Nitrato</th>\n",
       "      <td>64</td>\n",
       "    </tr>\n",
       "    <tr>\n",
       "      <th>Fosfato</th>\n",
       "      <td>16</td>\n",
       "    </tr>\n",
       "    <tr>\n",
       "      <th>Potasa</th>\n",
       "      <td>40</td>\n",
       "    </tr>\n",
       "    <tr>\n",
       "      <th>Base</th>\n",
       "      <td>2</td>\n",
       "    </tr>\n",
       "  </tbody>\n",
       "</table>\n",
       "</div>"
      ],
      "text/plain": [
       "         Coste\n",
       "Nitrato     64\n",
       "Fosfato     16\n",
       "Potasa      40\n",
       "Base         2"
      ]
     },
     "execution_count": 107,
     "metadata": {},
     "output_type": "execute_result"
    }
   ],
   "source": [
    "df_cost = pd.DataFrame({'Coste': [64,16,40,2]}, index = ['Nitrato','Fosfato','Potasa','Base'])\n",
    "df_cost"
   ]
  },
  {
   "cell_type": "markdown",
   "metadata": {},
   "source": [
    "#### Creamos un problema concreto, es decir, un objeto de la clase problema que ya contenga parámetros"
   ]
  },
  {
   "cell_type": "code",
   "execution_count": 108,
   "metadata": {},
   "outputs": [],
   "source": [
    "model = ConcreteModel()"
   ]
  },
  {
   "cell_type": "markdown",
   "metadata": {},
   "source": [
    "#### Necesitamos utilizar sets"
   ]
  },
  {
   "cell_type": "code",
   "execution_count": 109,
   "metadata": {},
   "outputs": [],
   "source": [
    "model.f=Set(initialize=df_comp.index)\n",
    "model.c=Set(initialize=df_cost.index)"
   ]
  },
  {
   "cell_type": "markdown",
   "metadata": {},
   "source": [
    "#### Definimos las variables"
   ]
  },
  {
   "cell_type": "code",
   "execution_count": 110,
   "metadata": {},
   "outputs": [],
   "source": [
    "model.Fin=Var(model.c, model.f, within=NonNegativeReals)\n",
    "model.Fc=Var(model.c,  within=NonNegativeReals)\n",
    "model.Ff=Var(model.f,  within=NonNegativeReals)"
   ]
  },
  {
   "cell_type": "markdown",
   "metadata": {},
   "source": [
    "#### Definimos la función objetivo"
   ]
  },
  {
   "cell_type": "code",
   "execution_count": 111,
   "metadata": {},
   "outputs": [],
   "source": [
    "model.obj = Objective(expr = sum(model.Ff[f]*(df_precio['Precio'][f]-6) for f in model.f)-sum(model.Fc[c]*df_cost['Coste'][c] for c in model.c), sense=maximize)"
   ]
  },
  {
   "cell_type": "markdown",
   "metadata": {},
   "source": [
    "#### Definimos la restricciones"
   ]
  },
  {
   "cell_type": "code",
   "execution_count": 112,
   "metadata": {},
   "outputs": [],
   "source": [
    "model.componentes = ConstraintList()\n",
    "for c in model.c:\n",
    "    model.componentes.add(\n",
    "        sum(model.Fin[c,f] for f in model.f)==model.Fc[c]\n",
    "    )\n",
    "\n",
    "model.disponib = ConstraintList()\n",
    "for c in model.c:\n",
    "    model.disponib.add(\n",
    "        df_disp['Disp'][c]>=model.Fc[c]\n",
    "    )\n",
    "\n",
    "model.constA = Constraint(expr= model.Ff['A']<=6000)  \n",
    "\n",
    "model.fert = ConstraintList()\n",
    "for f in model.f:\n",
    "    model.fert.add(\n",
    "        sum(model.Fin[c,f] for c in model.c)==model.Ff[f]\n",
    "    )\n",
    "\n",
    "model.composicion = ConstraintList()\n",
    "for c in model.c:\n",
    "    model.composicion.add(\n",
    "        sum(model.Ff[f]*df_comp[c][f] for f in model.f)==model.Fc[c]\n",
    "    )"
   ]
  },
  {
   "cell_type": "markdown",
   "metadata": {},
   "source": [
    "#### Resolvemos el problema"
   ]
  },
  {
   "cell_type": "code",
   "execution_count": 113,
   "metadata": {},
   "outputs": [
    {
     "name": "stdout",
     "output_type": "stream",
     "text": [
      "7 Set Declarations\n",
      "    Fin_index : Size=1, Index=None, Ordered=True\n",
      "        Key  : Dimen : Domain : Size : Members\n",
      "        None :     2 :    c*f :   12 : {('Nitrato', 'A'), ('Nitrato', 'B'), ('Nitrato', 'C'), ('Fosfato', 'A'), ('Fosfato', 'B'), ('Fosfato', 'C'), ('Potasa', 'A'), ('Potasa', 'B'), ('Potasa', 'C'), ('Base', 'A'), ('Base', 'B'), ('Base', 'C')}\n",
      "    c : Size=1, Index=None, Ordered=Insertion\n",
      "        Key  : Dimen : Domain : Size : Members\n",
      "        None :     1 :    Any :    4 : {'Nitrato', 'Fosfato', 'Potasa', 'Base'}\n",
      "    componentes_index : Size=1, Index=None, Ordered=Insertion\n",
      "        Key  : Dimen : Domain : Size : Members\n",
      "        None :     1 :    Any :    4 : {1, 2, 3, 4}\n",
      "    composicion_index : Size=1, Index=None, Ordered=Insertion\n",
      "        Key  : Dimen : Domain : Size : Members\n",
      "        None :     1 :    Any :    4 : {1, 2, 3, 4}\n",
      "    disponib_index : Size=1, Index=None, Ordered=Insertion\n",
      "        Key  : Dimen : Domain : Size : Members\n",
      "        None :     1 :    Any :    4 : {1, 2, 3, 4}\n",
      "    f : Size=1, Index=None, Ordered=Insertion\n",
      "        Key  : Dimen : Domain : Size : Members\n",
      "        None :     1 :    Any :    3 : {'A', 'B', 'C'}\n",
      "    fert_index : Size=1, Index=None, Ordered=Insertion\n",
      "        Key  : Dimen : Domain : Size : Members\n",
      "        None :     1 :    Any :    3 : {1, 2, 3}\n",
      "\n",
      "3 Var Declarations\n",
      "    Fc : Size=4, Index=c\n",
      "        Key     : Lower : Value  : Upper : Fixed : Stale : Domain\n",
      "           Base :     0 : 8600.0 :  None : False : False : NonNegativeReals\n",
      "        Fosfato :     0 : 1200.0 :  None : False : False : NonNegativeReals\n",
      "        Nitrato :     0 : 1000.0 :  None : False : False : NonNegativeReals\n",
      "         Potasa :     0 : 1200.0 :  None : False : False : NonNegativeReals\n",
      "    Ff : Size=3, Index=f\n",
      "        Key : Lower : Value            : Upper : Fixed : Stale : Domain\n",
      "          A :     0 :              0.0 :  None : False : False : NonNegativeReals\n",
      "          B :     0 : 4000.00000000001 :  None : False : False : NonNegativeReals\n",
      "          C :     0 :           8000.0 :  None : False : False : NonNegativeReals\n",
      "    Fin : Size=12, Index=Fin_index\n",
      "        Key              : Lower : Value            : Upper : Fixed : Stale : Domain\n",
      "           ('Base', 'A') :     0 :              0.0 :  None : False : False : NonNegativeReals\n",
      "           ('Base', 'B') :     0 : 4000.00000000001 :  None : False : False : NonNegativeReals\n",
      "           ('Base', 'C') :     0 : 4599.99999999999 :  None : False : False : NonNegativeReals\n",
      "        ('Fosfato', 'A') :     0 :              0.0 :  None : False : False : NonNegativeReals\n",
      "        ('Fosfato', 'B') :     0 :              0.0 :  None : False : False : NonNegativeReals\n",
      "        ('Fosfato', 'C') :     0 :           1200.0 :  None : False : False : NonNegativeReals\n",
      "        ('Nitrato', 'A') :     0 :              0.0 :  None : False : False : NonNegativeReals\n",
      "        ('Nitrato', 'B') :     0 :              0.0 :  None : False : False : NonNegativeReals\n",
      "        ('Nitrato', 'C') :     0 :           1000.0 :  None : False : False : NonNegativeReals\n",
      "         ('Potasa', 'A') :     0 :              0.0 :  None : False : False : NonNegativeReals\n",
      "         ('Potasa', 'B') :     0 :              0.0 :  None : False : False : NonNegativeReals\n",
      "         ('Potasa', 'C') :     0 :           1200.0 :  None : False : False : NonNegativeReals\n",
      "\n",
      "1 Objective Declarations\n",
      "    obj : Size=1, Index=None, Active=True\n",
      "        Key  : Active : Sense    : Expression\n",
      "        None :   True : maximize : 10*Ff[A] + 14*Ff[B] + 18*Ff[C] - (64*Fc[Nitrato] + 16*Fc[Fosfato] + 40*Fc[Potasa] + 2*Fc[Base])\n",
      "\n",
      "5 Constraint Declarations\n",
      "    componentes : Size=4, Index=componentes_index, Active=True\n",
      "        Key : Lower : Body                                                           : Upper : Active\n",
      "          1 :   0.0 : Fin[Nitrato,A] + Fin[Nitrato,B] + Fin[Nitrato,C] - Fc[Nitrato] :   0.0 :   True\n",
      "          2 :   0.0 : Fin[Fosfato,A] + Fin[Fosfato,B] + Fin[Fosfato,C] - Fc[Fosfato] :   0.0 :   True\n",
      "          3 :   0.0 :     Fin[Potasa,A] + Fin[Potasa,B] + Fin[Potasa,C] - Fc[Potasa] :   0.0 :   True\n",
      "          4 :   0.0 :             Fin[Base,A] + Fin[Base,B] + Fin[Base,C] - Fc[Base] :   0.0 :   True\n",
      "    composicion : Size=4, Index=composicion_index, Active=True\n",
      "        Key : Lower : Body                                              : Upper : Active\n",
      "          1 :   0.0 : 0.05*Ff[A] + 0.05*Ff[B] + 0.1*Ff[C] - Fc[Nitrato] :   0.0 :   True\n",
      "          2 :   0.0 :   0.1*Ff[A] + 0.1*Ff[B] + 0.1*Ff[C] - Fc[Fosfato] :   0.0 :   True\n",
      "          3 :   0.0 :   0.05*Ff[A] + 0.1*Ff[B] + 0.1*Ff[C] - Fc[Potasa] :   0.0 :   True\n",
      "          4 :   0.0 :     0.8*Ff[A] + 0.75*Ff[B] + 0.7*Ff[C] - Fc[Base] :   0.0 :   True\n",
      "    constA : Size=1, Index=None, Active=True\n",
      "        Key  : Lower : Body  : Upper  : Active\n",
      "        None :  -Inf : Ff[A] : 6000.0 :   True\n",
      "    disponib : Size=4, Index=disponib_index, Active=True\n",
      "        Key : Lower : Body        : Upper   : Active\n",
      "          1 :  -Inf : Fc[Nitrato] :  1000.0 :   True\n",
      "          2 :  -Inf : Fc[Fosfato] :  1800.0 :   True\n",
      "          3 :  -Inf :  Fc[Potasa] :  1200.0 :   True\n",
      "          4 :  -Inf :    Fc[Base] : 99990.0 :   True\n",
      "    fert : Size=3, Index=fert_index, Active=True\n",
      "        Key : Lower : Body                                                                  : Upper : Active\n",
      "          1 :   0.0 : Fin[Nitrato,A] + Fin[Fosfato,A] + Fin[Potasa,A] + Fin[Base,A] - Ff[A] :   0.0 :   True\n",
      "          2 :   0.0 : Fin[Nitrato,B] + Fin[Fosfato,B] + Fin[Potasa,B] + Fin[Base,B] - Ff[B] :   0.0 :   True\n",
      "          3 :   0.0 : Fin[Nitrato,C] + Fin[Fosfato,C] + Fin[Potasa,C] + Fin[Base,C] - Ff[C] :   0.0 :   True\n",
      "\n",
      "16 Declarations: f c Fin_index Fin Fc Ff obj componentes_index componentes disponib_index disponib constA fert_index fert composicion_index composicion\n",
      "# ==========================================================\n",
      "# = Solver Results                                         =\n",
      "# ==========================================================\n",
      "# ----------------------------------------------------------\n",
      "#   Problem Information\n",
      "# ----------------------------------------------------------\n",
      "Problem: \n",
      "- Name: unknown\n",
      "  Lower bound: 51600.0\n",
      "  Upper bound: 51600.0\n",
      "  Number of objectives: 1\n",
      "  Number of constraints: 17\n",
      "  Number of variables: 20\n",
      "  Number of nonzeros: 53\n",
      "  Sense: maximize\n",
      "# ----------------------------------------------------------\n",
      "#   Solver Information\n",
      "# ----------------------------------------------------------\n",
      "Solver: \n",
      "- Status: ok\n",
      "  Termination condition: optimal\n",
      "  Statistics: \n",
      "    Branch and bound: \n",
      "      Number of bounded subproblems: 0\n",
      "      Number of created subproblems: 0\n",
      "  Error rc: 0\n",
      "  Time: 0.07080984115600586\n",
      "# ----------------------------------------------------------\n",
      "#   Solution Information\n",
      "# ----------------------------------------------------------\n",
      "Solution: \n",
      "- number of solutions: 0\n",
      "  number of solutions displayed: 0\n"
     ]
    }
   ],
   "source": [
    "results = SolverFactory('glpk').solve(model)\n",
    "model.pprint()\n",
    "results.write()   "
   ]
  }
 ],
 "metadata": {
  "interpreter": {
   "hash": "11ffc019a02cc0e21e59860b66c88ea81995ce9237607e8ab2c087a287ee4867"
  },
  "kernelspec": {
   "display_name": "Python 3.8.3 64-bit ('base': conda)",
   "name": "python3"
  },
  "language_info": {
   "codemirror_mode": {
    "name": "ipython",
    "version": 3
   },
   "file_extension": ".py",
   "mimetype": "text/x-python",
   "name": "python",
   "nbconvert_exporter": "python",
   "pygments_lexer": "ipython3",
   "version": "3.8.3"
  }
 },
 "nbformat": 4,
 "nbformat_minor": 4
}
