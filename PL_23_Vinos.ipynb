{
 "cells": [
  {
   "cell_type": "markdown",
   "metadata": {},
   "source": [
    "### Ejercicio 23: Vinos"
   ]
  },
  {
   "cell_type": "markdown",
   "metadata": {},
   "source": [
    "Un fabricante de vinos desea mezclar vinos de cinco años diferentes para fabricar vinos de\n",
    "tres calidades diferentes (A, B y C). La cantidad de vino disponible de cada año (llamados año\n",
    "1, 2, 3, 4, 5) es de 800, 900, 500, 900 y 600 barriles respectivamente. La calidad del vino A es tal\n",
    "que como máximo se producirán 200 barriles. Se desea maximizar el beneficio.\n",
    "\n"
   ]
  },
  {
   "cell_type": "markdown",
   "metadata": {},
   "source": [
    "#### Importamos Pyomo"
   ]
  },
  {
   "cell_type": "code",
   "execution_count": 35,
   "metadata": {},
   "outputs": [],
   "source": [
    "from pyomo.environ import *\n",
    "import pandas as pd"
   ]
  },
  {
   "cell_type": "code",
   "execution_count": 36,
   "metadata": {},
   "outputs": [],
   "source": [
    "df = pd.DataFrame({'Beneficio':[4000,3000,2500]}, index= ['A','B','C'])\n",
    "df2 =pd.DataFrame({'Disp':[800,900,500,900,600]},index=[1,2,3,4,5])"
   ]
  },
  {
   "cell_type": "markdown",
   "metadata": {},
   "source": [
    "#### Creamos un problema concreto, es decir, un objeto de la clase problema que ya contenga parámetros"
   ]
  },
  {
   "cell_type": "code",
   "execution_count": 37,
   "metadata": {},
   "outputs": [],
   "source": [
    "model = ConcreteModel()"
   ]
  },
  {
   "cell_type": "markdown",
   "metadata": {},
   "source": [
    "#### Necesitamos utilizar sets"
   ]
  },
  {
   "cell_type": "code",
   "execution_count": 38,
   "metadata": {},
   "outputs": [],
   "source": [
    "model.m=Set(initialize=df.index)\n",
    "model.a=RangeSet(5)"
   ]
  },
  {
   "cell_type": "markdown",
   "metadata": {},
   "source": [
    "#### Definimos las variables"
   ]
  },
  {
   "cell_type": "code",
   "execution_count": 39,
   "metadata": {},
   "outputs": [],
   "source": [
    "model.Fin=Var(model.a, model.m, within=NonNegativeReals)"
   ]
  },
  {
   "cell_type": "markdown",
   "metadata": {},
   "source": [
    "#### Definimos la función objetivo"
   ]
  },
  {
   "cell_type": "code",
   "execution_count": 40,
   "metadata": {},
   "outputs": [],
   "source": [
    "model.obj = Objective(expr = sum(df['Beneficio'][m]*sum(model.Fin[a,m] for a in model.a) for m in model.m), sense=maximize)"
   ]
  },
  {
   "cell_type": "markdown",
   "metadata": {},
   "source": [
    "#### Definimos la restricciones"
   ]
  },
  {
   "cell_type": "code",
   "execution_count": 41,
   "metadata": {},
   "outputs": [],
   "source": [
    "model.disponib = ConstraintList()\n",
    "for a in model.a:\n",
    "    model.disponib.add(\n",
    "        df2['Disp'][a]>=sum(model.Fin[a,m] for m in model.m)\n",
    "    )\n",
    "\n",
    "model.maxA = Constraint(expr= sum(model.Fin[a,'A'] for a in model.a)<=200)  \n",
    "\n",
    "model.A1 = Constraint(expr=model.Fin[1,'A']+model.Fin[2,'A']>=0.6*sum(model.Fin[a,'A'] for a in model.a))\n",
    "model.A2 = Constraint(expr=model.Fin[4,'A']+model.Fin[4,'A']<=0.1*sum(model.Fin[a,'A'] for a in model.a))\n",
    "model.B = Constraint(expr=model.Fin[1,'B']+model.Fin[2,'B']+model.Fin[3,'B']>=0.5*sum(model.Fin[a,'B'] for a in model.a))\n",
    "model.C = Constraint(expr=model.Fin[5,'C']<=0.5*sum(model.Fin[a,'C'] for a in model.a))\n",
    "\n"
   ]
  },
  {
   "cell_type": "markdown",
   "metadata": {},
   "source": [
    "#### Resolvemos el problema"
   ]
  },
  {
   "cell_type": "code",
   "execution_count": 42,
   "metadata": {},
   "outputs": [
    {
     "name": "stdout",
     "output_type": "stream",
     "text": [
      "3 Set Declarations\n",
      "    Fin_index : Size=1, Index=None, Ordered=True\n",
      "        Key  : Dimen : Domain : Size : Members\n",
      "        None :     2 :    a*m :   15 : {(1, 'A'), (1, 'B'), (1, 'C'), (2, 'A'), (2, 'B'), (2, 'C'), (3, 'A'), (3, 'B'), (3, 'C'), (4, 'A'), (4, 'B'), (4, 'C'), (5, 'A'), (5, 'B'), (5, 'C')}\n",
      "    disponib_index : Size=1, Index=None, Ordered=Insertion\n",
      "        Key  : Dimen : Domain : Size : Members\n",
      "        None :     1 :    Any :    5 : {1, 2, 3, 4, 5}\n",
      "    m : Size=1, Index=None, Ordered=Insertion\n",
      "        Key  : Dimen : Domain : Size : Members\n",
      "        None :     1 :    Any :    3 : {'A', 'B', 'C'}\n",
      "\n",
      "1 RangeSet Declarations\n",
      "    a : Dimen=1, Size=5, Bounds=(1, 5)\n",
      "        Key  : Finite : Members\n",
      "        None :   True :   [1:5]\n",
      "\n",
      "1 Var Declarations\n",
      "    Fin : Size=15, Index=Fin_index\n",
      "        Key      : Lower : Value : Upper : Fixed : Stale : Domain\n",
      "        (1, 'A') :     0 : 200.0 :  None : False : False : NonNegativeReals\n",
      "        (1, 'B') :     0 : 600.0 :  None : False : False : NonNegativeReals\n",
      "        (1, 'C') :     0 :   0.0 :  None : False : False : NonNegativeReals\n",
      "        (2, 'A') :     0 :   0.0 :  None : False : False : NonNegativeReals\n",
      "        (2, 'B') :     0 : 900.0 :  None : False : False : NonNegativeReals\n",
      "        (2, 'C') :     0 :   0.0 :  None : False : False : NonNegativeReals\n",
      "        (3, 'A') :     0 :   0.0 :  None : False : False : NonNegativeReals\n",
      "        (3, 'B') :     0 : 500.0 :  None : False : False : NonNegativeReals\n",
      "        (3, 'C') :     0 :   0.0 :  None : False : False : NonNegativeReals\n",
      "        (4, 'A') :     0 :   0.0 :  None : False : False : NonNegativeReals\n",
      "        (4, 'B') :     0 : 900.0 :  None : False : False : NonNegativeReals\n",
      "        (4, 'C') :     0 :   0.0 :  None : False : False : NonNegativeReals\n",
      "        (5, 'A') :     0 :   0.0 :  None : False : False : NonNegativeReals\n",
      "        (5, 'B') :     0 : 600.0 :  None : False : False : NonNegativeReals\n",
      "        (5, 'C') :     0 :   0.0 :  None : False : False : NonNegativeReals\n",
      "\n",
      "1 Objective Declarations\n",
      "    obj : Size=1, Index=None, Active=True\n",
      "        Key  : Active : Sense    : Expression\n",
      "        None :   True : maximize : 4000*(Fin[1,A] + Fin[2,A] + Fin[3,A] + Fin[4,A] + Fin[5,A]) + 3000*(Fin[1,B] + Fin[2,B] + Fin[3,B] + Fin[4,B] + Fin[5,B]) + 2500*(Fin[1,C] + Fin[2,C] + Fin[3,C] + Fin[4,C] + Fin[5,C])\n",
      "\n",
      "6 Constraint Declarations\n",
      "    A1 : Size=1, Index=None, Active=True\n",
      "        Key  : Lower : Body                                                                               : Upper : Active\n",
      "        None :  -Inf : 0.6*(Fin[1,A] + Fin[2,A] + Fin[3,A] + Fin[4,A] + Fin[5,A]) - (Fin[1,A] + Fin[2,A]) :   0.0 :   True\n",
      "    A2 : Size=1, Index=None, Active=True\n",
      "        Key  : Lower : Body                                                                             : Upper : Active\n",
      "        None :  -Inf : Fin[4,A] + Fin[4,A] - 0.1*(Fin[1,A] + Fin[2,A] + Fin[3,A] + Fin[4,A] + Fin[5,A]) :   0.0 :   True\n",
      "    B : Size=1, Index=None, Active=True\n",
      "        Key  : Lower : Body                                                                                          : Upper : Active\n",
      "        None :  -Inf : 0.5*(Fin[1,B] + Fin[2,B] + Fin[3,B] + Fin[4,B] + Fin[5,B]) - (Fin[1,B] + Fin[2,B] + Fin[3,B]) :   0.0 :   True\n",
      "    C : Size=1, Index=None, Active=True\n",
      "        Key  : Lower : Body                                                                  : Upper : Active\n",
      "        None :  -Inf : Fin[5,C] - 0.5*(Fin[1,C] + Fin[2,C] + Fin[3,C] + Fin[4,C] + Fin[5,C]) :   0.0 :   True\n",
      "    disponib : Size=5, Index=disponib_index, Active=True\n",
      "        Key : Lower : Body                           : Upper : Active\n",
      "          1 :  -Inf : Fin[1,A] + Fin[1,B] + Fin[1,C] : 800.0 :   True\n",
      "          2 :  -Inf : Fin[2,A] + Fin[2,B] + Fin[2,C] : 900.0 :   True\n",
      "          3 :  -Inf : Fin[3,A] + Fin[3,B] + Fin[3,C] : 500.0 :   True\n",
      "          4 :  -Inf : Fin[4,A] + Fin[4,B] + Fin[4,C] : 900.0 :   True\n",
      "          5 :  -Inf : Fin[5,A] + Fin[5,B] + Fin[5,C] : 600.0 :   True\n",
      "    maxA : Size=1, Index=None, Active=True\n",
      "        Key  : Lower : Body                                                 : Upper : Active\n",
      "        None :  -Inf : Fin[1,A] + Fin[2,A] + Fin[3,A] + Fin[4,A] + Fin[5,A] : 200.0 :   True\n",
      "\n",
      "12 Declarations: m a Fin_index Fin obj disponib_index disponib maxA A1 A2 B C\n",
      "# ==========================================================\n",
      "# = Solver Results                                         =\n",
      "# ==========================================================\n",
      "# ----------------------------------------------------------\n",
      "#   Problem Information\n",
      "# ----------------------------------------------------------\n",
      "Problem: \n",
      "- Name: unknown\n",
      "  Lower bound: 11300000.0\n",
      "  Upper bound: 11300000.0\n",
      "  Number of objectives: 1\n",
      "  Number of constraints: 11\n",
      "  Number of variables: 16\n",
      "  Number of nonzeros: 41\n",
      "  Sense: maximize\n",
      "# ----------------------------------------------------------\n",
      "#   Solver Information\n",
      "# ----------------------------------------------------------\n",
      "Solver: \n",
      "- Status: ok\n",
      "  Termination condition: optimal\n",
      "  Statistics: \n",
      "    Branch and bound: \n",
      "      Number of bounded subproblems: 0\n",
      "      Number of created subproblems: 0\n",
      "  Error rc: 0\n",
      "  Time: 0.06582212448120117\n",
      "# ----------------------------------------------------------\n",
      "#   Solution Information\n",
      "# ----------------------------------------------------------\n",
      "Solution: \n",
      "- number of solutions: 0\n",
      "  number of solutions displayed: 0\n"
     ]
    }
   ],
   "source": [
    "results = SolverFactory('glpk').solve(model)\n",
    "model.pprint()\n",
    "results.write()   "
   ]
  }
 ],
 "metadata": {
  "interpreter": {
   "hash": "11ffc019a02cc0e21e59860b66c88ea81995ce9237607e8ab2c087a287ee4867"
  },
  "kernelspec": {
   "display_name": "Python 3.8.3 64-bit ('base': conda)",
   "name": "python3"
  },
  "language_info": {
   "codemirror_mode": {
    "name": "ipython",
    "version": 3
   },
   "file_extension": ".py",
   "mimetype": "text/x-python",
   "name": "python",
   "nbconvert_exporter": "python",
   "pygments_lexer": "ipython3",
   "version": "3.8.3"
  }
 },
 "nbformat": 4,
 "nbformat_minor": 4
}
