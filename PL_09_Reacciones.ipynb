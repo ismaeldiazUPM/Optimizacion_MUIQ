{
 "cells": [
  {
   "cell_type": "markdown",
   "source": [
    "### Ejercicio 9: Reacciones"
   ],
   "metadata": {}
  },
  {
   "cell_type": "markdown",
   "source": [
    "Se desean eliminar los contaminantes A (inicial 5 kmol) y B (2 kmol) mediante el proceso químico:\r\n",
    "\r\n",
    "$$\r\n",
    "\r\n",
    "\r\n",
    "\\begin{alignat*}{3}\r\n",
    "A+B &\\rightarrow  X+2Y   & &\\hspace{1cm}\\xi_1\\\\\r\n",
    "B+X &\\rightarrow  2Z & &\\hspace{1cm}\\xi_2\\\\\r\n",
    "Y+Z&\\rightarrow  T & &\\hspace{1cm}\\xi_3\\\\\r\n",
    "\\end{alignat*}\r\n",
    "\r\n",
    "$$\r\n",
    "\r\n",
    "\r\n",
    "¿Qué extensiones de reacciión harían que la cantidad de contaminantes residual sea mínima? ¿Y si se desea maximizar la cantidad de T?\r\n",
    "\r\n",
    "$$\r\n",
    "\\begin{alignat*}{2}\r\n",
    "\tT: &\\hspace{1cm} &  T= \\xi_3\\\\\r\n",
    "\tZ: &\\hspace{1cm} &  Z= 2\\xi_2-\\xi_3\\\\\r\n",
    "\tX: &\\hspace{1cm} &  X= \\xi_1-\\xi_2\\\\\r\n",
    "\tY: &\\hspace{1cm} &  Y= 2\\xi_1-\\xi_3\\\\\r\n",
    "\tA: &\\hspace{1cm} &  A_0-A= \\xi_1\\\\\r\n",
    "\tB: &\\hspace{1cm} &  B_0-B= \\xi_2\\\\\t\t\t\r\n",
    "\\end{alignat*}\r\n",
    "$$\r\n"
   ],
   "metadata": {}
  },
  {
   "cell_type": "code",
   "execution_count": 6,
   "source": [
    "from pyomo.environ import *\r\n",
    "model = ConcreteModel()"
   ],
   "outputs": [],
   "metadata": {}
  },
  {
   "cell_type": "markdown",
   "source": [
    "#### Variables"
   ],
   "metadata": {}
  },
  {
   "cell_type": "code",
   "execution_count": 7,
   "source": [
    "model.A = Var(domain=NonNegativeReals)\r\n",
    "model.B = Var(domain=NonNegativeReals)\r\n",
    "model.X = Var(domain=NonNegativeReals)\r\n",
    "model.Y = Var(domain=NonNegativeReals)\r\n",
    "model.Z = Var(domain=NonNegativeReals)\r\n",
    "model.T = Var(domain=NonNegativeReals)\r\n",
    "model.Z1 = Var(domain=NonNegativeReals)\r\n",
    "model.Z2 = Var(domain=NonNegativeReals)\r\n",
    "model.Z3 = Var(domain=NonNegativeReals)"
   ],
   "outputs": [],
   "metadata": {}
  },
  {
   "cell_type": "markdown",
   "source": [
    "#### Objetivo"
   ],
   "metadata": {}
  },
  {
   "cell_type": "code",
   "execution_count": 8,
   "source": [
    "model.contam = Objective(expr = model.A+model.B,\r\n",
    "                         sense=minimize)\r\n",
    "\r\n",
    "model.prodT = Objective(expr = model.T, sense = maximize) \r\n",
    "model.contam.deactivate()"
   ],
   "outputs": [],
   "metadata": {}
  },
  {
   "cell_type": "markdown",
   "source": [
    "#### Balances de moles"
   ],
   "metadata": {}
  },
  {
   "cell_type": "code",
   "execution_count": 9,
   "source": [
    "model.BalT = Constraint(expr = model.T-model.Z3 == 0)\r\n",
    "model.BalZ = Constraint(expr = model.Z-2*model.Z2+model.Z3 == 0)\r\n",
    "model.BalX = Constraint(expr = model.X-model.Z1+model.Z2 == 0)\r\n",
    "model.BalY = Constraint(expr = model.Y-2*model.Z1+model.Z3 == 0)\r\n",
    "model.BalA = Constraint(expr = 5-model.A-model.Z1 == 0)\r\n",
    "model.BalB = Constraint(expr = 2-model.B-model.Z2 == 0)"
   ],
   "outputs": [],
   "metadata": {}
  },
  {
   "cell_type": "markdown",
   "source": [
    "#### Solución"
   ],
   "metadata": {}
  },
  {
   "cell_type": "code",
   "execution_count": 10,
   "source": [
    "results = SolverFactory('glpk').solve(model)\r\n",
    "model.pprint()\r\n",
    "results.write()  "
   ],
   "outputs": [
    {
     "output_type": "stream",
     "name": "stdout",
     "text": [
      "9 Var Declarations\n",
      "    A : Size=1, Index=None\n",
      "        Key  : Lower : Value : Upper : Fixed : Stale : Domain\n",
      "        None :     0 :   3.0 :  None : False : False : NonNegativeReals\n",
      "    B : Size=1, Index=None\n",
      "        Key  : Lower : Value : Upper : Fixed : Stale : Domain\n",
      "        None :     0 :   0.0 :  None : False : False : NonNegativeReals\n",
      "    T : Size=1, Index=None\n",
      "        Key  : Lower : Value : Upper : Fixed : Stale : Domain\n",
      "        None :     0 :   4.0 :  None : False : False : NonNegativeReals\n",
      "    X : Size=1, Index=None\n",
      "        Key  : Lower : Value : Upper : Fixed : Stale : Domain\n",
      "        None :     0 :   0.0 :  None : False : False : NonNegativeReals\n",
      "    Y : Size=1, Index=None\n",
      "        Key  : Lower : Value : Upper : Fixed : Stale : Domain\n",
      "        None :     0 :   0.0 :  None : False : False : NonNegativeReals\n",
      "    Z : Size=1, Index=None\n",
      "        Key  : Lower : Value : Upper : Fixed : Stale : Domain\n",
      "        None :     0 :   0.0 :  None : False : False : NonNegativeReals\n",
      "    Z1 : Size=1, Index=None\n",
      "        Key  : Lower : Value : Upper : Fixed : Stale : Domain\n",
      "        None :     0 :   2.0 :  None : False : False : NonNegativeReals\n",
      "    Z2 : Size=1, Index=None\n",
      "        Key  : Lower : Value : Upper : Fixed : Stale : Domain\n",
      "        None :     0 :   2.0 :  None : False : False : NonNegativeReals\n",
      "    Z3 : Size=1, Index=None\n",
      "        Key  : Lower : Value : Upper : Fixed : Stale : Domain\n",
      "        None :     0 :   4.0 :  None : False : False : NonNegativeReals\n",
      "\n",
      "2 Objective Declarations\n",
      "    contam : Size=1, Index=None, Active=False\n",
      "        Key  : Active : Sense    : Expression\n",
      "        None :  False : minimize : A + B\n",
      "    prodT : Size=1, Index=None, Active=True\n",
      "        Key  : Active : Sense    : Expression\n",
      "        None :   True : maximize :          T\n",
      "\n",
      "6 Constraint Declarations\n",
      "    BalA : Size=1, Index=None, Active=True\n",
      "        Key  : Lower : Body       : Upper : Active\n",
      "        None :   0.0 : 5 - A - Z1 :   0.0 :   True\n",
      "    BalB : Size=1, Index=None, Active=True\n",
      "        Key  : Lower : Body       : Upper : Active\n",
      "        None :   0.0 : 2 - B - Z2 :   0.0 :   True\n",
      "    BalT : Size=1, Index=None, Active=True\n",
      "        Key  : Lower : Body   : Upper : Active\n",
      "        None :   0.0 : T - Z3 :   0.0 :   True\n",
      "    BalX : Size=1, Index=None, Active=True\n",
      "        Key  : Lower : Body        : Upper : Active\n",
      "        None :   0.0 : X - Z1 + Z2 :   0.0 :   True\n",
      "    BalY : Size=1, Index=None, Active=True\n",
      "        Key  : Lower : Body          : Upper : Active\n",
      "        None :   0.0 : Y - 2*Z1 + Z3 :   0.0 :   True\n",
      "    BalZ : Size=1, Index=None, Active=True\n",
      "        Key  : Lower : Body          : Upper : Active\n",
      "        None :   0.0 : Z - 2*Z2 + Z3 :   0.0 :   True\n",
      "\n",
      "17 Declarations: A B X Y Z T Z1 Z2 Z3 contam prodT BalT BalZ BalX BalY BalA BalB\n",
      "# ==========================================================\n",
      "# = Solver Results                                         =\n",
      "# ==========================================================\n",
      "# ----------------------------------------------------------\n",
      "#   Problem Information\n",
      "# ----------------------------------------------------------\n",
      "Problem: \n",
      "- Name: unknown\n",
      "  Lower bound: 4.0\n",
      "  Upper bound: 4.0\n",
      "  Number of objectives: 1\n",
      "  Number of constraints: 7\n",
      "  Number of variables: 10\n",
      "  Number of nonzeros: 16\n",
      "  Sense: maximize\n",
      "# ----------------------------------------------------------\n",
      "#   Solver Information\n",
      "# ----------------------------------------------------------\n",
      "Solver: \n",
      "- Status: ok\n",
      "  Termination condition: optimal\n",
      "  Statistics: \n",
      "    Branch and bound: \n",
      "      Number of bounded subproblems: 0\n",
      "      Number of created subproblems: 0\n",
      "  Error rc: 0\n",
      "  Time: 0.08676886558532715\n",
      "# ----------------------------------------------------------\n",
      "#   Solution Information\n",
      "# ----------------------------------------------------------\n",
      "Solution: \n",
      "- number of solutions: 0\n",
      "  number of solutions displayed: 0\n"
     ]
    }
   ],
   "metadata": {}
  }
 ],
 "metadata": {
  "orig_nbformat": 4,
  "language_info": {
   "name": "python",
   "version": "3.8.3",
   "mimetype": "text/x-python",
   "codemirror_mode": {
    "name": "ipython",
    "version": 3
   },
   "pygments_lexer": "ipython3",
   "nbconvert_exporter": "python",
   "file_extension": ".py"
  },
  "kernelspec": {
   "name": "python3",
   "display_name": "Python 3.8.3 64-bit ('base': conda)"
  },
  "interpreter": {
   "hash": "11ffc019a02cc0e21e59860b66c88ea81995ce9237607e8ab2c087a287ee4867"
  }
 },
 "nbformat": 4,
 "nbformat_minor": 2
}