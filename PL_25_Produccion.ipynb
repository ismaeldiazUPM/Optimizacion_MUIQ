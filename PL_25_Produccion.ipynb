{
 "cells": [
  {
   "cell_type": "markdown",
   "metadata": {},
   "source": [
    "### Ejercicio 25: Producción"
   ]
  },
  {
   "cell_type": "markdown",
   "metadata": {},
   "source": [
    "Una empresa lleva a cabo la producción de tres productos (P1, P2 y P3), los\n",
    "cuales se venden al mercado con un precio de venta de 2, 4 y 5 euros/kg respectivamente. Para\n",
    "ello utiliza como entrada al proceso dos materias primas MP1 y MP2. P1 no solo puede ser\n",
    "vendido, sino que es necesario también como intermedio para la producción de P2 y P3. Estos\n",
    "(P2 y P3) se venden directamente. Así, para la producción de 1 kg de P1 se necesitan 1.2 kg\n",
    "de MP1. Para la producción de 1 kg de P2 se necesitan 0.3 kg de P1 y 1.6 kg de MP2. Para la\n",
    "producción de 1 kg de P3 se necesitan 2.5 kg de P1. El coste de cada materia prima es de 1 y 2 euros por kg para MP1 y MP2 con una disponibilidad máxima de 1000 y 2000 kg. Determinar\n",
    "la producción óptima de P1, P2 y P3 para maximizar el beneficio de la empresa.\n",
    "\n",
    "\n"
   ]
  },
  {
   "cell_type": "markdown",
   "metadata": {},
   "source": [
    "#### Importamos Pyomo"
   ]
  },
  {
   "cell_type": "code",
   "execution_count": 1,
   "metadata": {},
   "outputs": [],
   "source": [
    "from pyomo.environ import *\n"
   ]
  },
  {
   "cell_type": "markdown",
   "metadata": {},
   "source": [
    "#### Creamos un problema concreto, es decir, un objeto de la clase problema que ya contenga parámetros"
   ]
  },
  {
   "cell_type": "code",
   "execution_count": 2,
   "metadata": {},
   "outputs": [],
   "source": [
    "model = ConcreteModel()"
   ]
  },
  {
   "cell_type": "markdown",
   "metadata": {},
   "source": [
    "#### Definimos las variables"
   ]
  },
  {
   "cell_type": "code",
   "execution_count": 3,
   "metadata": {},
   "outputs": [],
   "source": [
    "model.MP1=Var(within=NonNegativeReals)\n",
    "model.MP2=Var(within=NonNegativeReals)\n",
    "model.P1=Var(within=NonNegativeReals)\n",
    "model.P2=Var(within=NonNegativeReals)\n",
    "model.P3=Var(within=NonNegativeReals)\n",
    "model.P1v=Var(within=NonNegativeReals)\n",
    "model.P12=Var(within=NonNegativeReals)\n",
    "model.P13=Var(within=NonNegativeReals)"
   ]
  },
  {
   "cell_type": "markdown",
   "metadata": {},
   "source": [
    "#### Definimos la función objetivo"
   ]
  },
  {
   "cell_type": "code",
   "execution_count": 4,
   "metadata": {},
   "outputs": [],
   "source": [
    "model.obj = Objective(expr = 2*model.P1v+4*model.P2+5*model.P3-1*model.MP1-2*model.MP2, sense=maximize)"
   ]
  },
  {
   "cell_type": "markdown",
   "metadata": {},
   "source": [
    "#### Definimos la restricciones"
   ]
  },
  {
   "cell_type": "code",
   "execution_count": 5,
   "metadata": {},
   "outputs": [],
   "source": [
    "model.e1 = Constraint(expr= model.MP1==1.2*model.P1)  \n",
    "model.e2 = Constraint(expr= model.P12==0.3*model.P2)  \n",
    "model.e3 = Constraint(expr= model.P13==2.5*model.P3)\n",
    "model.e4 = Constraint(expr= model.P1==model.P12+model.P13+model.P1v)  \n",
    "model.e5 = Constraint(expr= model.MP2==1.6*model.P2)  \n",
    "model.e6 = Constraint(expr= model.MP1<=1000)  \n",
    "model.e7 = Constraint(expr= model.MP2<=2000)  "
   ]
  },
  {
   "cell_type": "markdown",
   "metadata": {},
   "source": [
    "#### Resolvemos el problema"
   ]
  },
  {
   "cell_type": "code",
   "execution_count": 6,
   "metadata": {},
   "outputs": [
    {
     "name": "stdout",
     "output_type": "stream",
     "text": [
      "# ==========================================================\n",
      "# = Solver Results                                         =\n",
      "# ==========================================================\n",
      "# ----------------------------------------------------------\n",
      "#   Problem Information\n",
      "# ----------------------------------------------------------\n",
      "Problem: \n",
      "- Name: unknown\n",
      "  Lower bound: 916.666666666667\n",
      "  Upper bound: 916.666666666667\n",
      "  Number of objectives: 1\n",
      "  Number of constraints: 8\n",
      "  Number of variables: 9\n",
      "  Number of nonzeros: 15\n",
      "  Sense: maximize\n",
      "# ----------------------------------------------------------\n",
      "#   Solver Information\n",
      "# ----------------------------------------------------------\n",
      "Solver: \n",
      "- Status: ok\n",
      "  Termination condition: optimal\n",
      "  Statistics: \n",
      "    Branch and bound: \n",
      "      Number of bounded subproblems: 0\n",
      "      Number of created subproblems: 0\n",
      "  Error rc: 0\n",
      "  Time: 0.06593894958496094\n",
      "# ----------------------------------------------------------\n",
      "#   Solution Information\n",
      "# ----------------------------------------------------------\n",
      "Solution: \n",
      "- number of solutions: 0\n",
      "  number of solutions displayed: 0\n"
     ]
    }
   ],
   "source": [
    "results = SolverFactory('glpk').solve(model)\n",
    "results.write()   "
   ]
  }
 ],
 "metadata": {
  "interpreter": {
   "hash": "11ffc019a02cc0e21e59860b66c88ea81995ce9237607e8ab2c087a287ee4867"
  },
  "kernelspec": {
   "display_name": "Python 3.8.3 64-bit ('base': conda)",
   "name": "python3"
  },
  "language_info": {
   "codemirror_mode": {
    "name": "ipython",
    "version": 3
   },
   "file_extension": ".py",
   "mimetype": "text/x-python",
   "name": "python",
   "nbconvert_exporter": "python",
   "pygments_lexer": "ipython3",
   "version": "3.8.3"
  }
 },
 "nbformat": 4,
 "nbformat_minor": 4
}
