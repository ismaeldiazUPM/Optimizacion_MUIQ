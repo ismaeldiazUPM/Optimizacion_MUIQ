{
 "cells": [
  {
   "cell_type": "markdown",
   "metadata": {},
   "source": [
    "### Ejercicio 4: Introducción a la optimización"
   ]
  },
  {
   "cell_type": "markdown",
   "metadata": {},
   "source": [
    "La empresa Sunrise Breakfast Company debe producir 2000 libras al día de\n",
    "copos de cereales para satisfacer la demanda de su producto Sugar Sweet\n",
    "Cereal. El coste por cada libra de los ingredientes de que se compone el\n",
    "producto son: Ingrediente A 4 \\$/libra; B 3 \\$/libra; C 2\\$/libra. Los\n",
    "requisitos del gobierno establecen que la mezcla deba contener al menos\n",
    "el 10% del ingrediente A y el 20% del ingrediente B. Se sabe también que\n",
    "el uso de más de 800 libras por ton (1 ton=2000 libras) produce un saber\n",
    "inaceptable. Determinar el mínimo coste de la mezcla que satisfaga la\n",
    "demana de Sugar Sweet Cereal."
   ]
  },
  {
   "cell_type": "markdown",
   "metadata": {},
   "source": [
    "#### Importamos Pyomo"
   ]
  },
  {
   "cell_type": "code",
   "execution_count": null,
   "metadata": {},
   "outputs": [],
   "source": [
    "from pyomo.environ import *"
   ]
  },
  {
   "cell_type": "markdown",
   "metadata": {},
   "source": [
    "#### Creamos un problema concreto, es decir, un objeto de la clase problema que ya contenga parámetros"
   ]
  },
  {
   "cell_type": "code",
   "execution_count": null,
   "metadata": {},
   "outputs": [],
   "source": [
    "model = ConcreteModel()"
   ]
  },
  {
   "cell_type": "markdown",
   "metadata": {},
   "source": [
    "#### Definimos las variables como no negativas"
   ]
  },
  {
   "cell_type": "code",
   "execution_count": null,
   "metadata": {},
   "outputs": [],
   "source": [
    "model.A = Var(domain=NonNegativeReals)\n",
    "model.B = Var(domain=NonNegativeReals)\n",
    "model.C = Var(domain=NonNegativeReals)"
   ]
  },
  {
   "cell_type": "markdown",
   "metadata": {},
   "source": [
    "#### Definimos la función objetivo"
   ]
  },
  {
   "cell_type": "code",
   "execution_count": null,
   "metadata": {},
   "outputs": [],
   "source": [
    "model.profit = Objective(expr = 4*model.A+3*model.B+2*model.C,\n",
    "                         sense=minimize)"
   ]
  },
  {
   "cell_type": "markdown",
   "metadata": {},
   "source": [
    "#### Definimos la restricciones"
   ]
  },
  {
   "cell_type": "code",
   "execution_count": null,
   "metadata": {},
   "outputs": [],
   "source": [
    "model.CantA = Constraint(expr = model.A-0.1*(model.A+model.B+model.C) >= 0)\n",
    "model.CantB = Constraint(expr = model.B-0.2*(model.A+model.B+model.C) >= 0)\n",
    "model.CantC = Constraint(expr = model.C <= 800)\n",
    "model.Prod  = Constraint(expr = model.A+model.B+model.C == 2000)"
   ]
  },
  {
   "cell_type": "code",
   "execution_count": null,
   "metadata": {},
   "outputs": [],
   "source": [
    "results = SolverFactory('glpk').solve(model)\n",
    "model.pprint()\n",
    "results.write()   "
   ]
  }
 ],
 "metadata": {
  "interpreter": {
   "hash": "11ffc019a02cc0e21e59860b66c88ea81995ce9237607e8ab2c087a287ee4867"
  },
  "kernelspec": {
   "display_name": "Python 3.8.3 64-bit ('base': conda)",
   "name": "python3"
  },
  "language_info": {
   "codemirror_mode": {
    "name": "ipython",
    "version": 3
   },
   "file_extension": ".py",
   "mimetype": "text/x-python",
   "name": "python",
   "nbconvert_exporter": "python",
   "pygments_lexer": "ipython3",
   "version": "3.8.3"
  }
 },
 "nbformat": 4,
 "nbformat_minor": 4
}
