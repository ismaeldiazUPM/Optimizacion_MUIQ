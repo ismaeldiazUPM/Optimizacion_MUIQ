{
 "cells": [
  {
   "cell_type": "markdown",
   "metadata": {},
   "source": [
    "Se desea maximizar el caudal de calor intercambiado del siguiente sistema, para lo cual se dispone de dos variables de decisión (T2C y T2H)\n",
    "\n",
    "![Ejemplo 1](images/Ej1.png)\n"
   ]
  },
  {
   "cell_type": "markdown",
   "metadata": {},
   "source": [
    "#### Requirements\n",
    "\n",
    "conda install --yes -c conda-forge pyomo\n",
    "\n",
    "conda install --yes -c conda-forge glpk"
   ]
  },
  {
   "cell_type": "code",
   "execution_count": null,
   "metadata": {},
   "outputs": [],
   "source": [
    "from pyomo.environ import *\n",
    "model = ConcreteModel()"
   ]
  },
  {
   "cell_type": "markdown",
   "metadata": {},
   "source": [
    "Variables"
   ]
  },
  {
   "cell_type": "code",
   "execution_count": null,
   "metadata": {},
   "outputs": [],
   "source": [
    "model.T2C = Var(bounds = (20,200))\n",
    "model.T2H = Var(bounds = (20,150))"
   ]
  },
  {
   "cell_type": "markdown",
   "metadata": {},
   "source": [
    "Objective function"
   ]
  },
  {
   "cell_type": "code",
   "execution_count": null,
   "metadata": {},
   "outputs": [],
   "source": [
    "model.Q = Objective(expr = 1.8*(150-model.T2H), sense=maximize)"
   ]
  },
  {
   "cell_type": "markdown",
   "metadata": {},
   "source": [
    "Constraints"
   ]
  },
  {
   "cell_type": "code",
   "execution_count": null,
   "metadata": {},
   "outputs": [],
   "source": [
    "DTm = 20 # Change to 20 or whatever minimum difference temperature value considered\n",
    "\n",
    "model.P1 = Constraint(expr = 150 - model.T2H >= 0)\n",
    "model.P2 = Constraint(expr = model.T2C - 20 >= 0)\n",
    "model.P3 = Constraint(expr = model.T2H - 20 >= DTm)\n",
    "model.P4 = Constraint(expr = 150 - model.T2C >= DTm)\n",
    "model.P5 = Constraint(expr = 1.8*(150-model.T2H)-1*(model.T2C-20)==0)\n"
   ]
  },
  {
   "cell_type": "markdown",
   "metadata": {},
   "source": [
    "Solution"
   ]
  },
  {
   "cell_type": "code",
   "execution_count": null,
   "metadata": {},
   "outputs": [],
   "source": [
    "results = SolverFactory('glpk').solve(model)\n",
    "model.pprint()\n",
    "results.write()"
   ]
  },
  {
   "cell_type": "markdown",
   "metadata": {},
   "source": [
    "Computing utility consumption"
   ]
  },
  {
   "cell_type": "code",
   "execution_count": null,
   "metadata": {},
   "outputs": [],
   "source": [
    "Qcold = 1.8*(value(model.T2H) - 50)\n",
    "Qhot = 1*(200 - value(model.T2C))\n",
    "Qtrans = 1.8*(150 - value(model.T2H))\n",
    "print('Cold utility = {0:2.2f}, Hot utility = {1:2.2f}'.format(Qcold, Qhot))\n",
    "print('Heat transfered = {:.2f}'.format(Qtrans))"
   ]
  }
 ],
 "metadata": {
  "kernelspec": {
   "display_name": "Python 3.9.12 ('base')",
   "language": "python",
   "name": "python3"
  },
  "language_info": {
   "codemirror_mode": {
    "name": "ipython",
    "version": 3
   },
   "file_extension": ".py",
   "mimetype": "text/x-python",
   "name": "python",
   "nbconvert_exporter": "python",
   "pygments_lexer": "ipython3",
   "version": "3.9.12"
  },
  "orig_nbformat": 4,
  "vscode": {
   "interpreter": {
    "hash": "8af10453ef098ec50340c55e714beb30c9adc44f8dd678bee3d7d17473f199d8"
   }
  }
 },
 "nbformat": 4,
 "nbformat_minor": 2
}
