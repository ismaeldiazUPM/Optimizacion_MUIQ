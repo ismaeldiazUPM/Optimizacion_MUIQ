{
 "cells": [
  {
   "cell_type": "markdown",
   "metadata": {},
   "source": [
    "### Ejercicio 18: Aceite"
   ]
  },
  {
   "cell_type": "markdown",
   "metadata": {},
   "source": [
    "Una empresa elabora un aceite nuevo (REFI) refinando exclusivamente diferentes tipos de\n",
    "aceite y mezclándolos. Los tipos de aceite se clasifican en dos categorías: vegetales (VEG1 y\n",
    "VEG2) y no vegetales (OIL1, OIL2 y OIL3). Dependiendo del tipo de aceite, vegetal o no vegetal,\n",
    "se requiere una línea de producción distinta para refinarlo, por lo que se puede refinar un máximo\n",
    "de 200 toneladas de aceite vegetal y 250 de no vegetal. Además, se puede asumir que el coste del\n",
    "refinamiento es nulo y que durante este proceso no se producen pérdidas de peso. Por otro lado,\n",
    "existen restricciones de control de calidad que imponen cotas (inferior y superior) a la acidez\n",
    "del producto final: 1.4 y 1.8 unidades, respectivamente. Se puede asumir que la acidez se mezcla\n",
    "linealmente. La acidez y el coste de una tonelada de cada tipo de aceite se re\n",
    "eja en la siguiente\n",
    "tabla:\n",
    " Aceite | VEG1 | VEG2 | OIL1 | OIL2 | OIL3 \n",
    "-----------------|---------------|---------------|---------------|---------------|----------------------------\n",
    " Coste  | 110           | 120           | 130           | 110           | 115         \n",
    " Acidez | 2,2           | 1,1           | 2             | 1,2           | 1,5 \n",
    "\n",
    "Cada tonelada de producto final se vende a un precio de 150 euros. Plantea el modelo que\n",
    "maximiza el beneficio neto.\n",
    "\n",
    "$$\n",
    "\\begin{equation*}\n",
    "    \\begin{aligned}&\\text{min}&& z=150\\sum_v F_v+150\\sum_o F_o-\\sum_v coste_v F_v-\\sum_o coste_o F_o \\\\\n",
    "    & \\text{sujeto a:} \\\\\n",
    "    &  && \\sum_v acidez_v F_v+\\sum_o acidez_o F_o \\leq 1.8 (\\sum_v F_v+\\sum_o F_o)  && \\\\\n",
    "    &  && \\sum_v acidez_v F_v+\\sum_o acidez_o F_o \\geq 1.4 (\\sum_v F_v+\\sum_o F_o)  && \\\\\n",
    "    &  && F_v \\in (VEG1, VEG2), F_o \\in (OIL1, OIL2, OIL3) &&\\\\\n",
    "    &  && F_v, F_o \\geq 0 \n",
    "    \\end{aligned}\n",
    "    \\end{equation*}\n",
    "$$"
   ]
  },
  {
   "cell_type": "code",
   "execution_count": 1,
   "metadata": {},
   "outputs": [],
   "source": [
    "from pyomo.environ import *\n",
    "import numpy as np\n",
    "model = ConcreteModel()"
   ]
  },
  {
   "cell_type": "code",
   "execution_count": 2,
   "metadata": {},
   "outputs": [
    {
     "name": "stdout",
     "output_type": "stream",
     "text": [
      "2 RangeSet Declarations\n",
      "    oil : Dimen=1, Size=3, Bounds=(1, 3)\n",
      "        Key  : Finite : Members\n",
      "        None :   True :   [1:3]\n",
      "    veg : Dimen=1, Size=2, Bounds=(1, 2)\n",
      "        Key  : Finite : Members\n",
      "        None :   True :   [1:2]\n",
      "\n",
      "4 Param Declarations\n",
      "    Acidezo : Size=3, Index=oil, Domain=Any, Default=None, Mutable=False\n",
      "        Key : Value\n",
      "          1 :     2\n",
      "          2 :   1.2\n",
      "          3 :   1.5\n",
      "    Acidezv : Size=2, Index=veg, Domain=Any, Default=None, Mutable=False\n",
      "        Key : Value\n",
      "          1 :   2.2\n",
      "          2 :   1.1\n",
      "    Costeo : Size=3, Index=oil, Domain=Any, Default=None, Mutable=False\n",
      "        Key : Value\n",
      "          1 :   130\n",
      "          2 :   110\n",
      "          3 :   115\n",
      "    Costev : Size=2, Index=veg, Domain=Any, Default=None, Mutable=False\n",
      "        Key : Value\n",
      "          1 :   110\n",
      "          2 :   120\n",
      "\n",
      "6 Declarations: veg oil Costev Costeo Acidezv Acidezo\n"
     ]
    }
   ],
   "source": [
    "\n",
    "model.veg = RangeSet(2)\n",
    "model.oil = RangeSet(3)\n",
    "Costeveg = {}\n",
    "Costeoil = {}\n",
    "Costeveg[1] = 110\n",
    "Costeveg[2] = 120\n",
    "Costeoil[1] = 130\n",
    "Costeoil[2] = 110\n",
    "Costeoil[3] = 115\n",
    "\n",
    "Acidezveg = {}\n",
    "Acidezoil = {}\n",
    "Acidezveg[1] = 2.2\n",
    "Acidezveg[2] = 1.1\n",
    "Acidezoil[1] = 2\n",
    "Acidezoil[2] = 1.2\n",
    "Acidezoil[3] = 1.5\n",
    "\n",
    "model.Costev = Param(model.veg, initialize = Costeveg)\n",
    "model.Costeo = Param(model.oil, initialize = Costeoil)\n",
    "model.Acidezv = Param(model.veg, initialize = Acidezveg)\n",
    "model.Acidezo = Param(model.oil, initialize = Acidezoil)\n",
    "\n",
    "\n",
    "model.pprint()"
   ]
  },
  {
   "cell_type": "code",
   "execution_count": 3,
   "metadata": {},
   "outputs": [],
   "source": [
    "model.Fv = Var(model.veg, domain = NonNegativeReals)\n",
    "model.Fo = Var(model.oil, domain = NonNegativeReals)"
   ]
  },
  {
   "cell_type": "code",
   "execution_count": 4,
   "metadata": {},
   "outputs": [],
   "source": [
    "model.benef = Objective(expr = 150*(sum(model.Fv[i] for i in model.veg)+sum(model.Fo[j] for j in model.oil))-sum(model.Fv[i]*model.Costev[i] for i in model.veg)-sum(model.Fo[j]*model.Costeo[j] for j in model.oil), sense = maximize)"
   ]
  },
  {
   "cell_type": "code",
   "execution_count": 5,
   "metadata": {},
   "outputs": [],
   "source": [
    "model.maxprodv = Constraint(expr = sum(model.Fv[i] for i in model.veg) <= 200)\n",
    "model.maxprodo = Constraint(expr = sum(model.Fo[i] for i in model.oil) <= 250)\n",
    "model.acup = Constraint(expr= sum(model.Fv[i]*model.Acidezv[i] for i in model.veg)+sum(model.Fo[i]*model.Acidezo[i] for i in model.oil) <=1.8*(sum(model.Fv[i] for i in model.veg)+sum(model.Fo[j] for j in model.oil)) )\n",
    "model.aclo = Constraint(expr= sum(model.Fv[i]*model.Acidezv[i] for i in model.veg)+sum(model.Fo[i]*model.Acidezo[i] for i in model.oil) >=1.4*(sum(model.Fv[i] for i in model.veg)+sum(model.Fo[j] for j in model.oil)) )\n",
    "\n"
   ]
  },
  {
   "cell_type": "code",
   "execution_count": 6,
   "metadata": {},
   "outputs": [
    {
     "name": "stdout",
     "output_type": "stream",
     "text": [
      "2 RangeSet Declarations\n",
      "    oil : Dimen=1, Size=3, Bounds=(1, 3)\n",
      "        Key  : Finite : Members\n",
      "        None :   True :   [1:3]\n",
      "    veg : Dimen=1, Size=2, Bounds=(1, 2)\n",
      "        Key  : Finite : Members\n",
      "        None :   True :   [1:2]\n",
      "\n",
      "4 Param Declarations\n",
      "    Acidezo : Size=3, Index=oil, Domain=Any, Default=None, Mutable=False\n",
      "        Key : Value\n",
      "          1 :     2\n",
      "          2 :   1.2\n",
      "          3 :   1.5\n",
      "    Acidezv : Size=2, Index=veg, Domain=Any, Default=None, Mutable=False\n",
      "        Key : Value\n",
      "          1 :   2.2\n",
      "          2 :   1.1\n",
      "    Costeo : Size=3, Index=oil, Domain=Any, Default=None, Mutable=False\n",
      "        Key : Value\n",
      "          1 :   130\n",
      "          2 :   110\n",
      "          3 :   115\n",
      "    Costev : Size=2, Index=veg, Domain=Any, Default=None, Mutable=False\n",
      "        Key : Value\n",
      "          1 :   110\n",
      "          2 :   120\n",
      "\n",
      "2 Var Declarations\n",
      "    Fo : Size=3, Index=oil\n",
      "        Key : Lower : Value : Upper : Fixed : Stale : Domain\n",
      "          1 :     0 :   0.0 :  None : False : False : NonNegativeReals\n",
      "          2 :     0 : 250.0 :  None : False : False : NonNegativeReals\n",
      "          3 :     0 :   0.0 :  None : False : False : NonNegativeReals\n",
      "    Fv : Size=2, Index=veg\n",
      "        Key : Lower : Value : Upper : Fixed : Stale : Domain\n",
      "          1 :     0 : 200.0 :  None : False : False : NonNegativeReals\n",
      "          2 :     0 :   0.0 :  None : False : False : NonNegativeReals\n",
      "\n",
      "1 Objective Declarations\n",
      "    benef : Size=1, Index=None, Active=True\n",
      "        Key  : Active : Sense    : Expression\n",
      "        None :   True : maximize : 150*(Fv[1] + Fv[2] + Fo[1] + Fo[2] + Fo[3]) - (110*Fv[1] + 120*Fv[2]) - (130*Fo[1] + 110*Fo[2] + 115*Fo[3])\n",
      "\n",
      "4 Constraint Declarations\n",
      "    aclo : Size=1, Index=None, Active=True\n",
      "        Key  : Lower : Body                                                                                                    : Upper : Active\n",
      "        None :  -Inf : 1.4*(Fv[1] + Fv[2] + Fo[1] + Fo[2] + Fo[3]) - (2.2*Fv[1] + 1.1*Fv[2] + 2*Fo[1] + 1.2*Fo[2] + 1.5*Fo[3]) :   0.0 :   True\n",
      "    acup : Size=1, Index=None, Active=True\n",
      "        Key  : Lower : Body                                                                                                  : Upper : Active\n",
      "        None :  -Inf : 2.2*Fv[1] + 1.1*Fv[2] + 2*Fo[1] + 1.2*Fo[2] + 1.5*Fo[3] - 1.8*(Fv[1] + Fv[2] + Fo[1] + Fo[2] + Fo[3]) :   0.0 :   True\n",
      "    maxprodo : Size=1, Index=None, Active=True\n",
      "        Key  : Lower : Body                  : Upper : Active\n",
      "        None :  -Inf : Fo[1] + Fo[2] + Fo[3] : 250.0 :   True\n",
      "    maxprodv : Size=1, Index=None, Active=True\n",
      "        Key  : Lower : Body          : Upper : Active\n",
      "        None :  -Inf : Fv[1] + Fv[2] : 200.0 :   True\n",
      "\n",
      "13 Declarations: veg oil Costev Costeo Acidezv Acidezo Fv Fo benef maxprodv maxprodo acup aclo\n",
      "# ==========================================================\n",
      "# = Solver Results                                         =\n",
      "# ==========================================================\n",
      "# ----------------------------------------------------------\n",
      "#   Problem Information\n",
      "# ----------------------------------------------------------\n",
      "Problem: \n",
      "- Name: unknown\n",
      "  Lower bound: 18000.0\n",
      "  Upper bound: 18000.0\n",
      "  Number of objectives: 1\n",
      "  Number of constraints: 5\n",
      "  Number of variables: 6\n",
      "  Number of nonzeros: 16\n",
      "  Sense: maximize\n",
      "# ----------------------------------------------------------\n",
      "#   Solver Information\n",
      "# ----------------------------------------------------------\n",
      "Solver: \n",
      "- Status: ok\n",
      "  Termination condition: optimal\n",
      "  Statistics: \n",
      "    Branch and bound: \n",
      "      Number of bounded subproblems: 0\n",
      "      Number of created subproblems: 0\n",
      "  Error rc: 0\n",
      "  Time: 0.061833858489990234\n",
      "# ----------------------------------------------------------\n",
      "#   Solution Information\n",
      "# ----------------------------------------------------------\n",
      "Solution: \n",
      "- number of solutions: 0\n",
      "  number of solutions displayed: 0\n"
     ]
    }
   ],
   "source": [
    "results = SolverFactory('glpk').solve(model)\n",
    "model.pprint()\n",
    "results.write()   "
   ]
  }
 ],
 "metadata": {
  "interpreter": {
   "hash": "11ffc019a02cc0e21e59860b66c88ea81995ce9237607e8ab2c087a287ee4867"
  },
  "kernelspec": {
   "display_name": "Python 3.8.3 64-bit ('base': conda)",
   "name": "python3"
  },
  "language_info": {
   "codemirror_mode": {
    "name": "ipython",
    "version": 3
   },
   "file_extension": ".py",
   "mimetype": "text/x-python",
   "name": "python",
   "nbconvert_exporter": "python",
   "pygments_lexer": "ipython3",
   "version": "3.8.3"
  }
 },
 "nbformat": 4,
 "nbformat_minor": 4
}
