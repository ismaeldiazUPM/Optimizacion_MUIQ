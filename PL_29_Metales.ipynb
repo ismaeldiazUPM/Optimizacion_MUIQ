{
 "cells": [
  {
   "cell_type": "markdown",
   "metadata": {},
   "source": [
    "La empresa La Jara Metales es una compañía especializada en aleaciones específicas de la industria aérea. La Junta de Extremadura les ha concedido un contrato para proveer 2000 kg de una aleación a 105 euros/kg. La aleación debe de contener Cobre, Magnesio, Niquel y Aluminio. Los requisitos de composición que se deben cumplir son:\n",
    "1. Al menos un 20% de Níquel \n",
    "2. Al menos un 15% de Cobre\n",
    "3. Entre un 2% y un 3% de Magnesio\n",
    "4. No más del 1,5% de impurezas\n",
    "5. El resto Aluminio.\n",
    "\n",
    "La empresa dispone de 5 metales que pueden mezclarse para fabricar el producto final. Los costes y composición de estos se encuentran en la hoja Datos/Datos_Ejercicio29.xlsx. El material Z20 es muy demandado, por lo que la empresa no puede utilizar más de 600 kg para fabricar la aleación. La empresa está interesada en conocer qué mezcla de materiales básicos proporciona los mayores beneficios. También están interesados en conocer los cambios en los valores de algunos parámetros. \n",
    "1. ¿Cómo afectaría a la decisión final disminuir el coste de Z30 en 5 eu/kg?\n",
    "2. ¿Cuánto afectaría una restricción muy severa de la legislación en cuanto al contenido de impurezas?\n",
    "3. Si la disponibilidad de Z20 pudiera aumentarse pagando 10 eur adicionales por tonelada, ¿sería interesante pagar este coste adicional?"
   ]
  },
  {
   "cell_type": "code",
   "execution_count": 83,
   "metadata": {},
   "outputs": [],
   "source": [
    "from pyomo.environ import *\n",
    "import pandas as pd\n",
    "model = ConcreteModel()"
   ]
  },
  {
   "cell_type": "code",
   "execution_count": 84,
   "metadata": {},
   "outputs": [],
   "source": [
    "datos = pd.read_excel('Datos_Ejercicio29.xlsx', index_col=0)\n",
    "model.z= Set(initialize=datos.index.to_list())"
   ]
  },
  {
   "cell_type": "code",
   "execution_count": 85,
   "metadata": {},
   "outputs": [],
   "source": [
    "model.F=Var(model.z, within=NonNegativeReals)\n",
    "\n",
    "model.Cu = Constraint(expr=sum(model.F[z]*datos['%Cu'][z] for z in model.z)>=sum(model.F[z] for z in model.z)*15)\n",
    "model.Mgmin = Constraint(expr=sum(model.F[z]*datos['%Mg'][z] for z in model.z)>=sum(model.F[z] for z in model.z)*2)\n",
    "model.Mgmax = Constraint(expr=sum(model.F[z]*datos['%Mg'][z] for z in model.z)<=sum(model.F[z] for z in model.z)*3)\n",
    "model.Ni = Constraint(expr=sum(model.F[z]*datos['%Ni'][z] for z in model.z)>=sum(model.F[z] for z in model.z)*20)\n",
    "model.imp = Constraint(expr=sum(model.F[z]*datos['%imp'][z] for z in model.z)<=sum(model.F[z] for z in model.z)*1.5)\n",
    "model.Tot= Constraint(expr=sum(model.F[z] for z in model.z)==2000)\n",
    "model.Z20= Constraint(expr=model.F['Z20']<=600)\n",
    "\n",
    "model.obj=Objective(expr=2000*105-sum(model.F[z]*datos['Coste_eu/kg'][z] for z in model.z), sense=maximize)\n"
   ]
  },
  {
   "cell_type": "code",
   "execution_count": 86,
   "metadata": {},
   "outputs": [
    {
     "name": "stdout",
     "output_type": "stream",
     "text": [
      "# ==========================================================\n",
      "# = Solver Results                                         =\n",
      "# ==========================================================\n",
      "# ----------------------------------------------------------\n",
      "#   Problem Information\n",
      "# ----------------------------------------------------------\n",
      "Problem: \n",
      "- Name: unknown\n",
      "  Lower bound: 77800.0\n",
      "  Upper bound: 77800.0\n",
      "  Number of objectives: 1\n",
      "  Number of constraints: 8\n",
      "  Number of variables: 6\n",
      "  Number of nonzeros: 27\n",
      "  Sense: maximize\n",
      "# ----------------------------------------------------------\n",
      "#   Solver Information\n",
      "# ----------------------------------------------------------\n",
      "Solver: \n",
      "- Status: ok\n",
      "  Termination condition: optimal\n",
      "  Statistics: \n",
      "    Branch and bound: \n",
      "      Number of bounded subproblems: 0\n",
      "      Number of created subproblems: 0\n",
      "  Error rc: 0\n",
      "  Time: 0.08029365539550781\n",
      "# ----------------------------------------------------------\n",
      "#   Solution Information\n",
      "# ----------------------------------------------------------\n",
      "Solution: \n",
      "- number of solutions: 0\n",
      "  number of solutions displayed: 0\n",
      "1 Set Declarations\n",
      "    z : Size=1, Index=None, Ordered=Insertion\n",
      "        Key  : Dimen : Domain : Size : Members\n",
      "        None :     1 :    Any :    5 : {'Z10', 'Z20', 'Z30', 'Z40', 'Z50'}\n",
      "\n",
      "1 Var Declarations\n",
      "    F : Size=5, Index=z\n",
      "        Key : Lower : Value  : Upper : Fixed : Stale : Domain\n",
      "        Z10 :     0 : 1000.0 :  None : False : False : NonNegativeReals\n",
      "        Z20 :     0 :  600.0 :  None : False : False : NonNegativeReals\n",
      "        Z30 :     0 :    0.0 :  None : False : False : NonNegativeReals\n",
      "        Z40 :     0 :    0.0 :  None : False : False : NonNegativeReals\n",
      "        Z50 :     0 :  400.0 :  None : False : False : NonNegativeReals\n",
      "\n",
      "1 Objective Declarations\n",
      "    obj : Size=1, Index=None, Active=True\n",
      "        Key  : Active : Sense    : Expression\n",
      "        None :   True : maximize : 210000 - (45*F[Z10] + 82*F[Z20] + 73*F[Z30] + 35*F[Z40] + 95*F[Z50])\n",
      "\n",
      "7 Constraint Declarations\n",
      "    Cu : Size=1, Index=None, Active=True\n",
      "        Key  : Lower : Body                                                                                                        : Upper : Active\n",
      "        None :  -Inf : (F[Z10] + F[Z20] + F[Z30] + F[Z40] + F[Z50])*15 - (12*F[Z10] + 24*F[Z20] + 8*F[Z30] + 4*F[Z40] + 15*F[Z50]) :   0.0 :   True\n",
      "    Mgmax : Size=1, Index=None, Active=True\n",
      "        Key  : Lower : Body                                                                                                : Upper : Active\n",
      "        None :  -Inf : 3*F[Z10] + 2*F[Z20] + F[Z30] + 2*F[Z40] + 3*F[Z50] - (F[Z10] + F[Z20] + F[Z30] + F[Z40] + F[Z50])*3 :   0.0 :   True\n",
      "    Mgmin : Size=1, Index=None, Active=True\n",
      "        Key  : Lower : Body                                                                                                  : Upper : Active\n",
      "        None :  -Inf : (F[Z10] + F[Z20] + F[Z30] + F[Z40] + F[Z50])*2 - (3*F[Z10] + 2*F[Z20] + F[Z30] + 2*F[Z40] + 3*F[Z50]) :   0.0 :   True\n",
      "    Ni : Size=1, Index=None, Active=True\n",
      "        Key  : Lower : Body                                                                                                         : Upper : Active\n",
      "        None :  -Inf : (F[Z10] + F[Z20] + F[Z30] + F[Z40] + F[Z50])*20 - (3*F[Z10] + 65*F[Z20] + 55*F[Z30] + 15*F[Z40] + 75*F[Z50]) :   0.0 :   True\n",
      "    Tot : Size=1, Index=None, Active=True\n",
      "        Key  : Lower  : Body                                       : Upper  : Active\n",
      "        None : 2000.0 : F[Z10] + F[Z20] + F[Z30] + F[Z40] + F[Z50] : 2000.0 :   True\n",
      "    Z20 : Size=1, Index=None, Active=True\n",
      "        Key  : Lower : Body   : Upper : Active\n",
      "        None :  -Inf : F[Z20] : 600.0 :   True\n",
      "    imp : Size=1, Index=None, Active=True\n",
      "        Key  : Lower : Body                                                                                                : Upper : Active\n",
      "        None :  -Inf : 2*F[Z10] + F[Z20] + 2*F[Z30] + 3*F[Z40] + F[Z50] - (F[Z10] + F[Z20] + F[Z30] + F[Z40] + F[Z50])*1.5 :   0.0 :   True\n",
      "\n",
      "10 Declarations: z F Cu Mgmin Mgmax Ni imp Tot Z20 obj\n"
     ]
    }
   ],
   "source": [
    "results=SolverFactory('glpk').solve(model)\n",
    "results.write()\n",
    "model.pprint()"
   ]
  },
  {
   "cell_type": "markdown",
   "metadata": {},
   "source": [
    "Disminuir el coste de Z30 no afecta a la solución del problema"
   ]
  },
  {
   "cell_type": "markdown",
   "metadata": {},
   "source": [
    "El mínimo contenido en impurezas afecta mucho. Por debajo del 1% el problema no tendría solución. Fijándolo en ese valor la FO pasa de 77800 a 27800."
   ]
  },
  {
   "cell_type": "markdown",
   "metadata": {},
   "source": [
    "Si el coste de Z20 aumenta 10 eur/kg y se elimina la restricción de los 600 kg máximo, la nueva solución del problema es 73000 menor que en el caso anterior"
   ]
  }
 ],
 "metadata": {
  "kernelspec": {
   "display_name": "base",
   "language": "python",
   "name": "python3"
  },
  "language_info": {
   "codemirror_mode": {
    "name": "ipython",
    "version": 3
   },
   "file_extension": ".py",
   "mimetype": "text/x-python",
   "name": "python",
   "nbconvert_exporter": "python",
   "pygments_lexer": "ipython3",
   "version": "3.9.13"
  },
  "orig_nbformat": 4
 },
 "nbformat": 4,
 "nbformat_minor": 2
}
