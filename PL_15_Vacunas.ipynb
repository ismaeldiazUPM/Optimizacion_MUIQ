{
 "cells": [
  {
   "cell_type": "markdown",
   "metadata": {},
   "source": [
    "### Ejercicio 15: Vacunas"
   ]
  },
  {
   "cell_type": "markdown",
   "metadata": {},
   "source": [
    "Una compañía distribuidora de vacunas dispone de un total de un millón de vacunas para repartir en España. Las vacunas llegan a través de Barajas, por lo que tienen un coste asociado al transporte hasta el lugar de su utilización (en euros por dosis). Cada comunidad autónoma tiene un número de individuos susceptibles de ser vacunados y realiza una oferta por dosis de vacuna (en euros por dosis). El requisito del Gobierno para que se comercialicen las vacunas es que al menos se vacune al 15% de la población susceptible en cada territorio. No se desea vacunar a más del 40% de la población de un territorio, puesto que ya se considera conseguida la inmunidad de grupo. ¿Cuál es el beneficio máximo que puede obtener la empresa? Los datos por comunidades autónomas están recogidos en el Excel adjunto “DatosVacunas.xlsx”"
   ]
  },
  {
   "cell_type": "markdown",
   "metadata": {},
   "source": [
    "#### Importamos Pyomo"
   ]
  },
  {
   "cell_type": "code",
   "execution_count": 18,
   "metadata": {},
   "outputs": [],
   "source": [
    "from pyomo.environ import *\n",
    "import pandas as pd\n"
   ]
  },
  {
   "cell_type": "code",
   "execution_count": 19,
   "metadata": {},
   "outputs": [
    {
     "data": {
      "text/html": [
       "<div>\n",
       "<style scoped>\n",
       "    .dataframe tbody tr th:only-of-type {\n",
       "        vertical-align: middle;\n",
       "    }\n",
       "\n",
       "    .dataframe tbody tr th {\n",
       "        vertical-align: top;\n",
       "    }\n",
       "\n",
       "    .dataframe thead th {\n",
       "        text-align: right;\n",
       "    }\n",
       "</style>\n",
       "<table border=\"1\" class=\"dataframe\">\n",
       "  <thead>\n",
       "    <tr style=\"text-align: right;\">\n",
       "      <th></th>\n",
       "      <th>Individuos susceptibles</th>\n",
       "      <th>Unnamed: 2</th>\n",
       "      <th>Unnamed: 3</th>\n",
       "      <th>Pagan (eur/dosis)</th>\n",
       "      <th>Unnamed: 5</th>\n",
       "      <th>Unnamed: 6</th>\n",
       "      <th>Transporte (eur/dosis)</th>\n",
       "    </tr>\n",
       "  </thead>\n",
       "  <tbody>\n",
       "    <tr>\n",
       "      <th>Aragon</th>\n",
       "      <td>322000</td>\n",
       "      <td>NaN</td>\n",
       "      <td>Aragon</td>\n",
       "      <td>57</td>\n",
       "      <td>NaN</td>\n",
       "      <td>Aragon</td>\n",
       "      <td>3.2</td>\n",
       "    </tr>\n",
       "    <tr>\n",
       "      <th>Asturias</th>\n",
       "      <td>111000</td>\n",
       "      <td>NaN</td>\n",
       "      <td>Asturias</td>\n",
       "      <td>27</td>\n",
       "      <td>NaN</td>\n",
       "      <td>Asturias</td>\n",
       "      <td>5.7</td>\n",
       "    </tr>\n",
       "    <tr>\n",
       "      <th>Baleares</th>\n",
       "      <td>141000</td>\n",
       "      <td>NaN</td>\n",
       "      <td>Baleares</td>\n",
       "      <td>13</td>\n",
       "      <td>NaN</td>\n",
       "      <td>Baleares</td>\n",
       "      <td>14.4</td>\n",
       "    </tr>\n",
       "    <tr>\n",
       "      <th>Canarias</th>\n",
       "      <td>63000</td>\n",
       "      <td>NaN</td>\n",
       "      <td>Canarias</td>\n",
       "      <td>52</td>\n",
       "      <td>NaN</td>\n",
       "      <td>Canarias</td>\n",
       "      <td>24.7</td>\n",
       "    </tr>\n",
       "    <tr>\n",
       "      <th>Cantabria</th>\n",
       "      <td>77000</td>\n",
       "      <td>NaN</td>\n",
       "      <td>Cantabria</td>\n",
       "      <td>51</td>\n",
       "      <td>NaN</td>\n",
       "      <td>Cantabria</td>\n",
       "      <td>5.1</td>\n",
       "    </tr>\n",
       "    <tr>\n",
       "      <th>CastillaLeon</th>\n",
       "      <td>451000</td>\n",
       "      <td>NaN</td>\n",
       "      <td>CastillaLeon</td>\n",
       "      <td>39</td>\n",
       "      <td>NaN</td>\n",
       "      <td>CastillaLeon</td>\n",
       "      <td>3.1</td>\n",
       "    </tr>\n",
       "    <tr>\n",
       "      <th>CastillaLaMancha</th>\n",
       "      <td>487000</td>\n",
       "      <td>NaN</td>\n",
       "      <td>CastillaLaMancha</td>\n",
       "      <td>96</td>\n",
       "      <td>NaN</td>\n",
       "      <td>CastillaLaMancha</td>\n",
       "      <td>2.4</td>\n",
       "    </tr>\n",
       "    <tr>\n",
       "      <th>Cataluña</th>\n",
       "      <td>822000</td>\n",
       "      <td>NaN</td>\n",
       "      <td>Cataluña</td>\n",
       "      <td>59</td>\n",
       "      <td>NaN</td>\n",
       "      <td>Cataluña</td>\n",
       "      <td>6.3</td>\n",
       "    </tr>\n",
       "    <tr>\n",
       "      <th>ComValenciana</th>\n",
       "      <td>744000</td>\n",
       "      <td>NaN</td>\n",
       "      <td>ComValenciana</td>\n",
       "      <td>77</td>\n",
       "      <td>NaN</td>\n",
       "      <td>ComValenciana</td>\n",
       "      <td>4.5</td>\n",
       "    </tr>\n",
       "    <tr>\n",
       "      <th>Extremadura</th>\n",
       "      <td>156000</td>\n",
       "      <td>NaN</td>\n",
       "      <td>Extremadura</td>\n",
       "      <td>82</td>\n",
       "      <td>NaN</td>\n",
       "      <td>Extremadura</td>\n",
       "      <td>5.3</td>\n",
       "    </tr>\n",
       "    <tr>\n",
       "      <th>Galicia</th>\n",
       "      <td>299000</td>\n",
       "      <td>NaN</td>\n",
       "      <td>Galicia</td>\n",
       "      <td>45</td>\n",
       "      <td>NaN</td>\n",
       "      <td>Galicia</td>\n",
       "      <td>9.0</td>\n",
       "    </tr>\n",
       "    <tr>\n",
       "      <th>ComMadrid</th>\n",
       "      <td>899000</td>\n",
       "      <td>NaN</td>\n",
       "      <td>ComMadrid</td>\n",
       "      <td>37</td>\n",
       "      <td>NaN</td>\n",
       "      <td>ComMadrid</td>\n",
       "      <td>0.0</td>\n",
       "    </tr>\n",
       "    <tr>\n",
       "      <th>Murcia</th>\n",
       "      <td>201000</td>\n",
       "      <td>NaN</td>\n",
       "      <td>Murcia</td>\n",
       "      <td>66</td>\n",
       "      <td>NaN</td>\n",
       "      <td>Murcia</td>\n",
       "      <td>6.1</td>\n",
       "    </tr>\n",
       "    <tr>\n",
       "      <th>Navarra</th>\n",
       "      <td>341000</td>\n",
       "      <td>NaN</td>\n",
       "      <td>Navarra</td>\n",
       "      <td>69</td>\n",
       "      <td>NaN</td>\n",
       "      <td>Navarra</td>\n",
       "      <td>4.9</td>\n",
       "    </tr>\n",
       "    <tr>\n",
       "      <th>PaisVasco</th>\n",
       "      <td>406000</td>\n",
       "      <td>NaN</td>\n",
       "      <td>PaisVasco</td>\n",
       "      <td>92</td>\n",
       "      <td>NaN</td>\n",
       "      <td>PaisVasco</td>\n",
       "      <td>5.9</td>\n",
       "    </tr>\n",
       "    <tr>\n",
       "      <th>Rioja</th>\n",
       "      <td>233000</td>\n",
       "      <td>NaN</td>\n",
       "      <td>Rioja</td>\n",
       "      <td>43</td>\n",
       "      <td>NaN</td>\n",
       "      <td>Rioja</td>\n",
       "      <td>4.1</td>\n",
       "    </tr>\n",
       "    <tr>\n",
       "      <th>Ceuta</th>\n",
       "      <td>51000</td>\n",
       "      <td>NaN</td>\n",
       "      <td>Ceuta</td>\n",
       "      <td>78</td>\n",
       "      <td>NaN</td>\n",
       "      <td>Ceuta</td>\n",
       "      <td>10.1</td>\n",
       "    </tr>\n",
       "    <tr>\n",
       "      <th>Melilla</th>\n",
       "      <td>37000</td>\n",
       "      <td>NaN</td>\n",
       "      <td>Melilla</td>\n",
       "      <td>71</td>\n",
       "      <td>NaN</td>\n",
       "      <td>Melilla</td>\n",
       "      <td>10.7</td>\n",
       "    </tr>\n",
       "  </tbody>\n",
       "</table>\n",
       "</div>"
      ],
      "text/plain": [
       "                  Individuos susceptibles  Unnamed: 2        Unnamed: 3  \\\n",
       "Aragon                             322000         NaN            Aragon   \n",
       "Asturias                           111000         NaN          Asturias   \n",
       "Baleares                           141000         NaN          Baleares   \n",
       "Canarias                            63000         NaN          Canarias   \n",
       "Cantabria                           77000         NaN         Cantabria   \n",
       "CastillaLeon                       451000         NaN      CastillaLeon   \n",
       "CastillaLaMancha                   487000         NaN  CastillaLaMancha   \n",
       "Cataluña                           822000         NaN          Cataluña   \n",
       "ComValenciana                      744000         NaN     ComValenciana   \n",
       "Extremadura                        156000         NaN       Extremadura   \n",
       "Galicia                            299000         NaN           Galicia   \n",
       "ComMadrid                          899000         NaN         ComMadrid   \n",
       "Murcia                             201000         NaN            Murcia   \n",
       "Navarra                            341000         NaN           Navarra   \n",
       "PaisVasco                          406000         NaN         PaisVasco   \n",
       "Rioja                              233000         NaN             Rioja   \n",
       "Ceuta                               51000         NaN             Ceuta   \n",
       "Melilla                             37000         NaN           Melilla   \n",
       "\n",
       "                  Pagan (eur/dosis)  Unnamed: 5        Unnamed: 6  \\\n",
       "Aragon                           57         NaN            Aragon   \n",
       "Asturias                         27         NaN          Asturias   \n",
       "Baleares                         13         NaN          Baleares   \n",
       "Canarias                         52         NaN          Canarias   \n",
       "Cantabria                        51         NaN         Cantabria   \n",
       "CastillaLeon                     39         NaN      CastillaLeon   \n",
       "CastillaLaMancha                 96         NaN  CastillaLaMancha   \n",
       "Cataluña                         59         NaN          Cataluña   \n",
       "ComValenciana                    77         NaN     ComValenciana   \n",
       "Extremadura                      82         NaN       Extremadura   \n",
       "Galicia                          45         NaN           Galicia   \n",
       "ComMadrid                        37         NaN         ComMadrid   \n",
       "Murcia                           66         NaN            Murcia   \n",
       "Navarra                          69         NaN           Navarra   \n",
       "PaisVasco                        92         NaN         PaisVasco   \n",
       "Rioja                            43         NaN             Rioja   \n",
       "Ceuta                            78         NaN             Ceuta   \n",
       "Melilla                          71         NaN           Melilla   \n",
       "\n",
       "                  Transporte (eur/dosis)  \n",
       "Aragon                               3.2  \n",
       "Asturias                             5.7  \n",
       "Baleares                            14.4  \n",
       "Canarias                            24.7  \n",
       "Cantabria                            5.1  \n",
       "CastillaLeon                         3.1  \n",
       "CastillaLaMancha                     2.4  \n",
       "Cataluña                             6.3  \n",
       "ComValenciana                        4.5  \n",
       "Extremadura                          5.3  \n",
       "Galicia                              9.0  \n",
       "ComMadrid                            0.0  \n",
       "Murcia                               6.1  \n",
       "Navarra                              4.9  \n",
       "PaisVasco                            5.9  \n",
       "Rioja                                4.1  \n",
       "Ceuta                               10.1  \n",
       "Melilla                             10.7  "
      ]
     },
     "execution_count": 19,
     "metadata": {},
     "output_type": "execute_result"
    }
   ],
   "source": [
    "df = pd.read_excel('Datos/DatosVacunas.xlsx',index_col=0)\n",
    "df"
   ]
  },
  {
   "cell_type": "code",
   "execution_count": 20,
   "metadata": {},
   "outputs": [],
   "source": [
    "susceptibles = df['Individuos susceptibles']\n",
    "pagan = df['Pagan (eur/dosis)']\n",
    "transp = df['Transporte (eur/dosis)']\n",
    "comunidades = df.index.values.tolist()"
   ]
  },
  {
   "cell_type": "code",
   "execution_count": 21,
   "metadata": {},
   "outputs": [
    {
     "data": {
      "text/plain": [
       "['Aragon',\n",
       " 'Asturias',\n",
       " 'Baleares',\n",
       " 'Canarias',\n",
       " 'Cantabria',\n",
       " 'CastillaLeon',\n",
       " 'CastillaLaMancha',\n",
       " 'Cataluña',\n",
       " 'ComValenciana',\n",
       " 'Extremadura',\n",
       " 'Galicia',\n",
       " 'ComMadrid',\n",
       " 'Murcia',\n",
       " 'Navarra',\n",
       " 'PaisVasco',\n",
       " 'Rioja',\n",
       " 'Ceuta',\n",
       " 'Melilla']"
      ]
     },
     "execution_count": 21,
     "metadata": {},
     "output_type": "execute_result"
    }
   ],
   "source": [
    "df.index.values.tolist()"
   ]
  },
  {
   "cell_type": "markdown",
   "metadata": {},
   "source": [
    "#### Creamos un problema concreto, es decir, un objeto de la clase problema que ya contenga parámetros"
   ]
  },
  {
   "cell_type": "code",
   "execution_count": 22,
   "metadata": {},
   "outputs": [],
   "source": [
    "model = ConcreteModel()"
   ]
  },
  {
   "cell_type": "markdown",
   "metadata": {},
   "source": [
    "#### Necesitamos utilizar sets"
   ]
  },
  {
   "cell_type": "code",
   "execution_count": 23,
   "metadata": {},
   "outputs": [
    {
     "name": "stdout",
     "output_type": "stream",
     "text": [
      "com : Size=1, Index=None, Ordered=Insertion\n",
      "    Key  : Dimen : Domain : Size : Members\n",
      "    None :     1 :    Any :   18 : {'Aragon', 'Asturias', 'Baleares', 'Canarias', 'Cantabria', 'CastillaLeon', 'CastillaLaMancha', 'Cataluña', 'ComValenciana', 'Extremadura', 'Galicia', 'ComMadrid', 'Murcia', 'Navarra', 'PaisVasco', 'Rioja', 'Ceuta', 'Melilla'}\n"
     ]
    }
   ],
   "source": [
    "model.com=Set(initialize=comunidades)\n",
    "model.com.pprint()"
   ]
  },
  {
   "cell_type": "markdown",
   "metadata": {},
   "source": [
    "#### Definimos las variables"
   ]
  },
  {
   "cell_type": "code",
   "execution_count": 24,
   "metadata": {},
   "outputs": [],
   "source": [
    "model.vacunas=Var(model.com,within=NonNegativeReals)"
   ]
  },
  {
   "cell_type": "markdown",
   "metadata": {},
   "source": [
    "#### Definimos la función objetivo"
   ]
  },
  {
   "cell_type": "code",
   "execution_count": 25,
   "metadata": {},
   "outputs": [],
   "source": [
    "model.obj = Objective(expr = sum(model.vacunas[c]*(pagan[c]-transp[c]) for c in model.com ), sense=maximize)"
   ]
  },
  {
   "cell_type": "markdown",
   "metadata": {},
   "source": [
    "#### Definimos la restricciones"
   ]
  },
  {
   "cell_type": "code",
   "execution_count": 26,
   "metadata": {},
   "outputs": [],
   "source": [
    "model.minvac = ConstraintList()\n",
    "for c in model.com:\n",
    "    model.minvac.add(\n",
    "        model.vacunas[c]>=0.15*susceptibles[c]\n",
    "    )\n",
    "\n",
    "model.maxvac = ConstraintList()\n",
    "for c in model.com:\n",
    "    model.maxvac.add(\n",
    "        model.vacunas[c]<=0.4*susceptibles[c]\n",
    "    )\n",
    "\n",
    "model.totalvacunas = Constraint(expr = sum(model.vacunas[c] for c in model.com)<=1000000)\n"
   ]
  },
  {
   "cell_type": "markdown",
   "metadata": {},
   "source": [
    "#### Resolvemos el problema"
   ]
  },
  {
   "cell_type": "code",
   "execution_count": 27,
   "metadata": {},
   "outputs": [
    {
     "name": "stdout",
     "output_type": "stream",
     "text": [
      "# ==========================================================\n",
      "# = Solver Results                                         =\n",
      "# ==========================================================\n",
      "# ----------------------------------------------------------\n",
      "#   Problem Information\n",
      "# ----------------------------------------------------------\n",
      "Problem: \n",
      "- Name: unknown\n",
      "  Lower bound: 60084015.0\n",
      "  Upper bound: 60084015.0\n",
      "  Number of objectives: 1\n",
      "  Number of constraints: 38\n",
      "  Number of variables: 19\n",
      "  Number of nonzeros: 55\n",
      "  Sense: maximize\n",
      "# ----------------------------------------------------------\n",
      "#   Solver Information\n",
      "# ----------------------------------------------------------\n",
      "Solver: \n",
      "- Status: ok\n",
      "  Termination condition: optimal\n",
      "  Statistics: \n",
      "    Branch and bound: \n",
      "      Number of bounded subproblems: 0\n",
      "      Number of created subproblems: 0\n",
      "  Error rc: 0\n",
      "  Time: 0.025701045989990234\n",
      "# ----------------------------------------------------------\n",
      "#   Solution Information\n",
      "# ----------------------------------------------------------\n",
      "Solution: \n",
      "- number of solutions: 0\n",
      "  number of solutions displayed: 0\n"
     ]
    }
   ],
   "source": [
    "results = SolverFactory('glpk').solve(model)\n",
    "#model.pprint()\n",
    "results.write()   "
   ]
  },
  {
   "cell_type": "markdown",
   "metadata": {},
   "source": [
    "#### Exportamos a Excel"
   ]
  },
  {
   "cell_type": "code",
   "execution_count": 28,
   "metadata": {},
   "outputs": [
    {
     "data": {
      "text/html": [
       "<div>\n",
       "<style scoped>\n",
       "    .dataframe tbody tr th:only-of-type {\n",
       "        vertical-align: middle;\n",
       "    }\n",
       "\n",
       "    .dataframe tbody tr th {\n",
       "        vertical-align: top;\n",
       "    }\n",
       "\n",
       "    .dataframe thead th {\n",
       "        text-align: right;\n",
       "    }\n",
       "</style>\n",
       "<table border=\"1\" class=\"dataframe\">\n",
       "  <thead>\n",
       "    <tr style=\"text-align: right;\">\n",
       "      <th></th>\n",
       "      <th>0</th>\n",
       "    </tr>\n",
       "  </thead>\n",
       "  <tbody>\n",
       "    <tr>\n",
       "      <th>Aragon</th>\n",
       "      <td>48300.0</td>\n",
       "    </tr>\n",
       "    <tr>\n",
       "      <th>Asturias</th>\n",
       "      <td>16650.0</td>\n",
       "    </tr>\n",
       "    <tr>\n",
       "      <th>Baleares</th>\n",
       "      <td>21150.0</td>\n",
       "    </tr>\n",
       "    <tr>\n",
       "      <th>Canarias</th>\n",
       "      <td>9450.0</td>\n",
       "    </tr>\n",
       "    <tr>\n",
       "      <th>Cantabria</th>\n",
       "      <td>11550.0</td>\n",
       "    </tr>\n",
       "    <tr>\n",
       "      <th>CastillaLeon</th>\n",
       "      <td>67650.0</td>\n",
       "    </tr>\n",
       "    <tr>\n",
       "      <th>CastillaLaMancha</th>\n",
       "      <td>194800.0</td>\n",
       "    </tr>\n",
       "    <tr>\n",
       "      <th>Cataluña</th>\n",
       "      <td>123300.0</td>\n",
       "    </tr>\n",
       "    <tr>\n",
       "      <th>ComValenciana</th>\n",
       "      <td>111600.0</td>\n",
       "    </tr>\n",
       "    <tr>\n",
       "      <th>Extremadura</th>\n",
       "      <td>23400.0</td>\n",
       "    </tr>\n",
       "    <tr>\n",
       "      <th>Galicia</th>\n",
       "      <td>44850.0</td>\n",
       "    </tr>\n",
       "    <tr>\n",
       "      <th>ComMadrid</th>\n",
       "      <td>134850.0</td>\n",
       "    </tr>\n",
       "    <tr>\n",
       "      <th>Murcia</th>\n",
       "      <td>30150.0</td>\n",
       "    </tr>\n",
       "    <tr>\n",
       "      <th>Navarra</th>\n",
       "      <td>51150.0</td>\n",
       "    </tr>\n",
       "    <tr>\n",
       "      <th>PaisVasco</th>\n",
       "      <td>63000.0</td>\n",
       "    </tr>\n",
       "    <tr>\n",
       "      <th>Rioja</th>\n",
       "      <td>34950.0</td>\n",
       "    </tr>\n",
       "    <tr>\n",
       "      <th>Ceuta</th>\n",
       "      <td>7650.0</td>\n",
       "    </tr>\n",
       "    <tr>\n",
       "      <th>Melilla</th>\n",
       "      <td>5550.0</td>\n",
       "    </tr>\n",
       "  </tbody>\n",
       "</table>\n",
       "</div>"
      ],
      "text/plain": [
       "                         0\n",
       "Aragon             48300.0\n",
       "Asturias           16650.0\n",
       "Baleares           21150.0\n",
       "Canarias            9450.0\n",
       "Cantabria          11550.0\n",
       "CastillaLeon       67650.0\n",
       "CastillaLaMancha  194800.0\n",
       "Cataluña          123300.0\n",
       "ComValenciana     111600.0\n",
       "Extremadura        23400.0\n",
       "Galicia            44850.0\n",
       "ComMadrid         134850.0\n",
       "Murcia             30150.0\n",
       "Navarra            51150.0\n",
       "PaisVasco          63000.0\n",
       "Rioja              34950.0\n",
       "Ceuta               7650.0\n",
       "Melilla             5550.0"
      ]
     },
     "execution_count": 28,
     "metadata": {},
     "output_type": "execute_result"
    }
   ],
   "source": [
    "df2=pd.DataFrame.from_dict(model.vacunas.extract_values(),orient='index')\n",
    "df2.to_excel('Resultados/Result_Vacunas.xlsx')\n",
    "df2"
   ]
  },
  {
   "cell_type": "code",
   "execution_count": 29,
   "metadata": {},
   "outputs": [
    {
     "data": {
      "image/png": "[encoded data removed]",
      "text/plain": [
       "<Figure size 450x450 with 1 Axes>"
      ]
     },
     "metadata": {
      "needs_background": "light"
     },
     "output_type": "display_data"
    }
   ],
   "source": [
    "vac=df2.to_numpy()\n",
    "vac\n",
    "import matplotlib.pyplot as plt\n",
    "fig = plt.figure(figsize=(3, 3), dpi=150)\n",
    "plt.plot(comunidades,vac,'o',color='black')\n",
    "plt.xticks(rotation=90)\n",
    "plt.xlabel('Comunidad')\n",
    "plt.ylabel('Vacunas recibidas')\n",
    "plt.savefig('Resultados/figuravacunas.svg')\n"
   ]
  }
 ],
 "metadata": {
  "interpreter": {
   "hash": "11ffc019a02cc0e21e59860b66c88ea81995ce9237607e8ab2c087a287ee4867"
  },
  "kernelspec": {
   "display_name": "Python 3.8.3 64-bit ('base': conda)",
   "name": "python3"
  },
  "language_info": {
   "codemirror_mode": {
    "name": "ipython",
    "version": 3
   },
   "file_extension": ".py",
   "mimetype": "text/x-python",
   "name": "python",
   "nbconvert_exporter": "python",
   "pygments_lexer": "ipython3",
   "version": "3.9.12"
  }
 },
 "nbformat": 4,
 "nbformat_minor": 4
}
