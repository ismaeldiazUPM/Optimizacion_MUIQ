{
 "cells": [
  {
   "cell_type": "markdown",
   "metadata": {},
   "source": [
    "### Ejercicio 13: Planta de cemento"
   ]
  },
  {
   "cell_type": "markdown",
   "metadata": {},
   "source": [
    "Una planta de fabricación de cemento es la causante principal de la polución de aire cercana a\n",
    "un municipio. La capacidad de producción de la planta es de 2.5 millones de barriles de cemento.\n",
    "Se desconoce si la planta ha estado operando a plena capacidad. La planta emite 1kg de polvo por\n",
    "barril de cemento producido. Para intentar controlar la emisión de partículas (polvo) se pueden\n",
    "instalar dos tipos de precipitadores electrostáticos. El precipitador de cuatro campos es capaz\n",
    "reducir la emisión en 750 g de polvo por barril (dejando 250 g por barril) y su costo de operación\n",
    "será de 0.15 euros por barril. El otro precipitador es de cinco campos con lo cual es capaz de\n",
    "reducir la emisión en 900 g por barril de cemento (dejando 100 g por barril), siendo mayor su\n",
    "costo de operación que asciende a 0.19 euros por barril. La agencia de protección medioambiental\n",
    "requiere que la emisión de partículas sea reducida en, al menos, un 84 %. Cada barril de cemento\n",
    "dejaba unos beneficios de 6 euros antes de añadirlos a los precipitadores. ¿Cuántos barriles de\n",
    "cemento se deben producir empleando cada tipo de precipitador de modo que se maximice el\n",
    "beneficio y se cumplan las regulaciones medioambientales?"
   ]
  },
  {
   "cell_type": "markdown",
   "metadata": {},
   "source": [
    "#### Importamos Pyomo"
   ]
  },
  {
   "cell_type": "code",
   "execution_count": 12,
   "metadata": {},
   "outputs": [],
   "source": [
    "from pyomo.environ import *"
   ]
  },
  {
   "cell_type": "markdown",
   "metadata": {},
   "source": [
    "#### Creamos un problema concreto, es decir, un objeto de la clase problema que ya contenga parámetros"
   ]
  },
  {
   "cell_type": "code",
   "execution_count": 13,
   "metadata": {},
   "outputs": [],
   "source": [
    "model = ConcreteModel()"
   ]
  },
  {
   "cell_type": "markdown",
   "metadata": {},
   "source": [
    "#### Definimos las variables como no negativas"
   ]
  },
  {
   "cell_type": "code",
   "execution_count": 14,
   "metadata": {},
   "outputs": [],
   "source": [
    "model.Precip1 = Var(domain=NonNegativeReals)\n",
    "model.Precip2 = Var(domain=NonNegativeReals)"
   ]
  },
  {
   "cell_type": "markdown",
   "metadata": {},
   "source": [
    "#### Definimos la función objetivo"
   ]
  },
  {
   "cell_type": "code",
   "execution_count": 15,
   "metadata": {},
   "outputs": [],
   "source": [
    "model.profit = Objective(expr = 6*(model.Precip1+model.Precip2)-0.15*model.Precip1-0.19*model.Precip2,\n",
    "                         sense=maximize)"
   ]
  },
  {
   "cell_type": "markdown",
   "metadata": {},
   "source": [
    "#### Definimos la restricciones"
   ]
  },
  {
   "cell_type": "code",
   "execution_count": 16,
   "metadata": {},
   "outputs": [],
   "source": [
    "model.capac = Constraint(expr = model.Precip1+model.Precip2 <= 2.5E6)\n",
    "model.emisiones = Constraint(expr = model.Precip1*0.25+model.Precip2*0.1 <= (model.Precip1+model.Precip2)*0.16)"
   ]
  },
  {
   "cell_type": "code",
   "execution_count": 17,
   "metadata": {},
   "outputs": [
    {
     "name": "stdout",
     "output_type": "stream",
     "text": [
      "2 Var Declarations\n",
      "    Precip1 : Size=1, Index=None\n",
      "        Key  : Lower : Value     : Upper : Fixed : Stale : Domain\n",
      "        None :     0 : 1000000.0 :  None : False : False : NonNegativeReals\n",
      "    Precip2 : Size=1, Index=None\n",
      "        Key  : Lower : Value     : Upper : Fixed : Stale : Domain\n",
      "        None :     0 : 1500000.0 :  None : False : False : NonNegativeReals\n",
      "\n",
      "1 Objective Declarations\n",
      "    profit : Size=1, Index=None, Active=True\n",
      "        Key  : Active : Sense    : Expression\n",
      "        None :   True : maximize : 6*(Precip1 + Precip2) - 0.15*Precip1 - 0.19*Precip2\n",
      "\n",
      "2 Constraint Declarations\n",
      "    capac : Size=1, Index=None, Active=True\n",
      "        Key  : Lower : Body              : Upper     : Active\n",
      "        None :  -Inf : Precip1 + Precip2 : 2500000.0 :   True\n",
      "    emisiones : Size=1, Index=None, Active=True\n",
      "        Key  : Lower : Body                                                  : Upper : Active\n",
      "        None :  -Inf : 0.25*Precip1 + 0.1*Precip2 - (Precip1 + Precip2)*0.16 :   0.0 :   True\n",
      "\n",
      "5 Declarations: Precip1 Precip2 profit capac emisiones\n",
      "# ==========================================================\n",
      "# = Solver Results                                         =\n",
      "# ==========================================================\n",
      "# ----------------------------------------------------------\n",
      "#   Problem Information\n",
      "# ----------------------------------------------------------\n",
      "Problem: \n",
      "- Name: unknown\n",
      "  Lower bound: 14565000.0\n",
      "  Upper bound: 14565000.0\n",
      "  Number of objectives: 1\n",
      "  Number of constraints: 3\n",
      "  Number of variables: 3\n",
      "  Number of nonzeros: 5\n",
      "  Sense: maximize\n",
      "# ----------------------------------------------------------\n",
      "#   Solver Information\n",
      "# ----------------------------------------------------------\n",
      "Solver: \n",
      "- Status: ok\n",
      "  Termination condition: optimal\n",
      "  Statistics: \n",
      "    Branch and bound: \n",
      "      Number of bounded subproblems: 0\n",
      "      Number of created subproblems: 0\n",
      "  Error rc: 0\n",
      "  Time: 0.07679390907287598\n",
      "# ----------------------------------------------------------\n",
      "#   Solution Information\n",
      "# ----------------------------------------------------------\n",
      "Solution: \n",
      "- number of solutions: 0\n",
      "  number of solutions displayed: 0\n"
     ]
    }
   ],
   "source": [
    "results = SolverFactory('glpk').solve(model)\n",
    "model.pprint()\n",
    "results.write()   "
   ]
  }
 ],
 "metadata": {
  "interpreter": {
   "hash": "11ffc019a02cc0e21e59860b66c88ea81995ce9237607e8ab2c087a287ee4867"
  },
  "kernelspec": {
   "display_name": "Python 3.8.3 64-bit ('base': conda)",
   "name": "python3"
  },
  "language_info": {
   "codemirror_mode": {
    "name": "ipython",
    "version": 3
   },
   "file_extension": ".py",
   "mimetype": "text/x-python",
   "name": "python",
   "nbconvert_exporter": "python",
   "pygments_lexer": "ipython3",
   "version": "3.8.3"
  }
 },
 "nbformat": 4,
 "nbformat_minor": 4
}
