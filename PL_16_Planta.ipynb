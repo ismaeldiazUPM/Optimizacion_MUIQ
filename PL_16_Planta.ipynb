{
 "cells": [
  {
   "cell_type": "markdown",
   "metadata": {},
   "source": [
    "### Ejercicio 16: Planta"
   ]
  },
  {
   "cell_type": "markdown",
   "metadata": {},
   "source": [
    "Una compañía fabrica dos tipos de productos, uno normal y uno extra. La compañía tiene dos\n",
    "plantas de fabricacón, una en Toledo y otra en Málaga. La planta de Toledo tiene un presupuesto\n",
    "de operacón diario de 45000 euros y puede producir como mucho 300 unidades (entre los dos\n",
    "tipos de productos). El coste de fabricar el producto normal en la planta de Toledo es de 150\n",
    "euros mientras que el producto extra cuesta 200 euros fabricarlo. La planta de Málaga tiene\n",
    "un presupuesto diario de 36000 euros y puede fabricar como mucho 250 unidades (entre los dos\n",
    "productos). Los costes de fabricacón en esta planta son de 135 euros para el producto normal\n",
    "y de 180 euros para el producto extra. La compañía quiere limitar la produccón diaria a 250\n",
    "unidades de producto normal y 350 unidades de producto extra. El beneficio de venta de cada\n",
    "unidad de proudcto normal es de 50 euros mientras que el del producto extra es de 70 euros por\n",
    "unidad. Se pide calcular el máximo beneficio y qué cantidad de cada tipo de unidad (normal y\n",
    "extra) se debe producir en cada planta de fabricacón."
   ]
  },
  {
   "cell_type": "code",
   "execution_count": 9,
   "metadata": {},
   "outputs": [],
   "source": [
    "from pyomo.environ import *\n",
    "import pandas as pd\n",
    "model = ConcreteModel()"
   ]
  },
  {
   "cell_type": "code",
   "execution_count": 15,
   "metadata": {},
   "outputs": [
    {
     "name": "stdout",
     "output_type": "stream",
     "text": [
      "WARNING: Implicitly replacing the Component attribute f (type=<class\n",
      "    'pyomo.core.base.set.OrderedScalarSet'>) on block unknown with a new\n",
      "    Component (type=<class 'pyomo.core.base.set.AbstractOrderedScalarSet'>).\n",
      "    This is usually indicative of a modelling error. To avoid this warning,\n",
      "    use block.del_component() and block.add_component().\n",
      "WARNING: Implicitly replacing the Component attribute p (type=<class\n",
      "    'pyomo.core.base.set.OrderedScalarSet'>) on block unknown with a new\n",
      "    Component (type=<class 'pyomo.core.base.set.AbstractOrderedScalarSet'>).\n",
      "    This is usually indicative of a modelling error. To avoid this warning,\n",
      "    use block.del_component() and block.add_component().\n"
     ]
    },
    {
     "data": {
      "text/html": [
       "<div>\n",
       "<style scoped>\n",
       "    .dataframe tbody tr th:only-of-type {\n",
       "        vertical-align: middle;\n",
       "    }\n",
       "\n",
       "    .dataframe tbody tr th {\n",
       "        vertical-align: top;\n",
       "    }\n",
       "\n",
       "    .dataframe thead th {\n",
       "        text-align: right;\n",
       "    }\n",
       "</style>\n",
       "<table border=\"1\" class=\"dataframe\">\n",
       "  <thead>\n",
       "    <tr style=\"text-align: right;\">\n",
       "      <th></th>\n",
       "      <th>Toledo</th>\n",
       "      <th>Málaga</th>\n",
       "    </tr>\n",
       "  </thead>\n",
       "  <tbody>\n",
       "    <tr>\n",
       "      <th>Normal</th>\n",
       "      <td>150</td>\n",
       "      <td>135</td>\n",
       "    </tr>\n",
       "    <tr>\n",
       "      <th>Extra</th>\n",
       "      <td>200</td>\n",
       "      <td>180</td>\n",
       "    </tr>\n",
       "  </tbody>\n",
       "</table>\n",
       "</div>"
      ],
      "text/plain": [
       "        Toledo  Málaga\n",
       "Normal     150     135\n",
       "Extra      200     180"
      ]
     },
     "execution_count": 15,
     "metadata": {},
     "output_type": "execute_result"
    }
   ],
   "source": [
    "fab = ['Toledo', 'Málaga']\n",
    "prod = ['Normal', 'Extra']\n",
    "model.f = Set(initialize = fab)\n",
    "model.p = Set(initialize = prod)\n",
    "\n",
    "Cost = [{'Toledo':150, 'Málaga':135}, {'Toledo':200, 'Málaga':180}]\n",
    "Costes = pd.DataFrame(Cost, index=prod)\n",
    "Costes\n",
    "Benef = [50, 70.1]\n",
    "Beneficio = pd.DataFrame(Benef, index=prod)\n",
    "\n",
    "maxpr = [250, 350]\n",
    "maxprod = pd.DataFrame(maxpr, index=prod)\n",
    "\n",
    "maxpl = [300, 250]\n",
    "maxplantas = pd.DataFrame(maxpl, index=fab)\n",
    "\n",
    "maxpres = [45000, 36000]\n",
    "maxpresupuesto = pd.DataFrame(maxpres, index=fab)\n",
    "\n",
    "Costes=Costes.to_dict()\n",
    "Beneficio=Beneficio.to_dict()\n",
    "maxprod=maxprod.to_dict()\n",
    "maxplantas=maxplantas.to_dict()\n",
    "maxpresupuesto=maxpresupuesto.to_dict()\n",
    "\n",
    "Costes\n"
   ]
  },
  {
   "cell_type": "code",
   "execution_count": 11,
   "metadata": {},
   "outputs": [],
   "source": [
    "model.F = Var(model.p, model.f, domain=NonNegativeReals)"
   ]
  },
  {
   "cell_type": "code",
   "execution_count": 12,
   "metadata": {},
   "outputs": [],
   "source": [
    "model.profit = Objective(expr = sum(sum(model.F[p,f] for f in model.f)*Beneficio[0][p] for p in model.p),\n",
    "                         sense=maximize)"
   ]
  },
  {
   "cell_type": "code",
   "execution_count": 13,
   "metadata": {},
   "outputs": [],
   "source": [
    "model.maxproduccion = ConstraintList()\n",
    "for p in model.p:\n",
    "    model.maxproduccion.add(\n",
    "        sum(model.F[p,f] for f in model.f) <= maxprod[0][p]\n",
    "    )\n",
    "\n",
    "model.maxplantas = ConstraintList()\n",
    "for f in model.f:\n",
    "    model.maxplantas.add (\n",
    "        sum(model.F[p,f] for p in model.p) <= maxplantas[0][f]\n",
    "    )\n",
    "\n",
    "model.maxpresp = ConstraintList()\n",
    "for f in model.f:\n",
    "    model.maxpresp.add(\n",
    "        sum(model.F[p,f]*Costes[f][p] for p in model.p) <= maxpresupuesto[0][f]\n",
    "    )\n"
   ]
  },
  {
   "cell_type": "code",
   "execution_count": 14,
   "metadata": {},
   "outputs": [
    {
     "name": "stdout",
     "output_type": "stream",
     "text": [
      "6 Set Declarations\n",
      "    F_index : Size=1, Index=None, Ordered=True\n",
      "        Key  : Dimen : Domain : Size : Members\n",
      "        None :     2 :    p*f :    4 : {('Normal', 'Toledo'), ('Normal', 'Málaga'), ('Extra', 'Toledo'), ('Extra', 'Málaga')}\n",
      "    f : Size=1, Index=None, Ordered=Insertion\n",
      "        Key  : Dimen : Domain : Size : Members\n",
      "        None :     1 :    Any :    2 : {'Toledo', 'Málaga'}\n",
      "    maxplantas_index : Size=1, Index=None, Ordered=Insertion\n",
      "        Key  : Dimen : Domain : Size : Members\n",
      "        None :     1 :    Any :    2 : {1, 2}\n",
      "    maxpresp_index : Size=1, Index=None, Ordered=Insertion\n",
      "        Key  : Dimen : Domain : Size : Members\n",
      "        None :     1 :    Any :    2 : {1, 2}\n",
      "    maxproduccion_index : Size=1, Index=None, Ordered=Insertion\n",
      "        Key  : Dimen : Domain : Size : Members\n",
      "        None :     1 :    Any :    2 : {1, 2}\n",
      "    p : Size=1, Index=None, Ordered=Insertion\n",
      "        Key  : Dimen : Domain : Size : Members\n",
      "        None :     1 :    Any :    2 : {'Normal', 'Extra'}\n",
      "\n",
      "1 Var Declarations\n",
      "    F : Size=4, Index=F_index\n",
      "        Key                  : Lower : Value : Upper : Fixed : Stale : Domain\n",
      "         ('Extra', 'Málaga') :     0 : 200.0 :  None : False : False : NonNegativeReals\n",
      "         ('Extra', 'Toledo') :     0 : 150.0 :  None : False : False : NonNegativeReals\n",
      "        ('Normal', 'Málaga') :     0 :   0.0 :  None : False : False : NonNegativeReals\n",
      "        ('Normal', 'Toledo') :     0 : 100.0 :  None : False : False : NonNegativeReals\n",
      "\n",
      "1 Objective Declarations\n",
      "    profit : Size=1, Index=None, Active=True\n",
      "        Key  : Active : Sense    : Expression\n",
      "        None :   True : maximize : (F[Normal,Toledo] + F[Normal,Málaga])*50.0 + (F[Extra,Toledo] + F[Extra,Málaga])*70.1\n",
      "\n",
      "3 Constraint Declarations\n",
      "    maxplantas : Size=2, Index=maxplantas_index, Active=True\n",
      "        Key : Lower : Body                               : Upper : Active\n",
      "          1 :  -Inf : F[Normal,Toledo] + F[Extra,Toledo] : 300.0 :   True\n",
      "          2 :  -Inf : F[Normal,Málaga] + F[Extra,Málaga] : 250.0 :   True\n",
      "    maxpresp : Size=2, Index=maxpresp_index, Active=True\n",
      "        Key : Lower : Body                                       : Upper   : Active\n",
      "          1 :  -Inf : 150*F[Normal,Toledo] + 200*F[Extra,Toledo] : 45000.0 :   True\n",
      "          2 :  -Inf : 135*F[Normal,Málaga] + 180*F[Extra,Málaga] : 36000.0 :   True\n",
      "    maxproduccion : Size=2, Index=maxproduccion_index, Active=True\n",
      "        Key : Lower : Body                                : Upper : Active\n",
      "          1 :  -Inf : F[Normal,Toledo] + F[Normal,Málaga] : 250.0 :   True\n",
      "          2 :  -Inf :   F[Extra,Toledo] + F[Extra,Málaga] : 350.0 :   True\n",
      "\n",
      "11 Declarations: f p F_index F profit maxproduccion_index maxproduccion maxplantas_index maxplantas maxpresp_index maxpresp\n",
      "# ==========================================================\n",
      "# = Solver Results                                         =\n",
      "# ==========================================================\n",
      "# ----------------------------------------------------------\n",
      "#   Problem Information\n",
      "# ----------------------------------------------------------\n",
      "Problem: \n",
      "- Name: unknown\n",
      "  Lower bound: 29535.0\n",
      "  Upper bound: 29535.0\n",
      "  Number of objectives: 1\n",
      "  Number of constraints: 7\n",
      "  Number of variables: 5\n",
      "  Number of nonzeros: 13\n",
      "  Sense: maximize\n",
      "# ----------------------------------------------------------\n",
      "#   Solver Information\n",
      "# ----------------------------------------------------------\n",
      "Solver: \n",
      "- Status: ok\n",
      "  Termination condition: optimal\n",
      "  Statistics: \n",
      "    Branch and bound: \n",
      "      Number of bounded subproblems: 0\n",
      "      Number of created subproblems: 0\n",
      "  Error rc: 0\n",
      "  Time: 0.06482696533203125\n",
      "# ----------------------------------------------------------\n",
      "#   Solution Information\n",
      "# ----------------------------------------------------------\n",
      "Solution: \n",
      "- number of solutions: 0\n",
      "  number of solutions displayed: 0\n"
     ]
    }
   ],
   "source": [
    "results = SolverFactory('glpk').solve(model)\n",
    "model.pprint()\n",
    "results.write()   "
   ]
  }
 ],
 "metadata": {
  "interpreter": {
   "hash": "11ffc019a02cc0e21e59860b66c88ea81995ce9237607e8ab2c087a287ee4867"
  },
  "kernelspec": {
   "display_name": "Python 3.8.3 64-bit ('base': conda)",
   "name": "python3"
  },
  "language_info": {
   "codemirror_mode": {
    "name": "ipython",
    "version": 3
   },
   "file_extension": ".py",
   "mimetype": "text/x-python",
   "name": "python",
   "nbconvert_exporter": "python",
   "pygments_lexer": "ipython3",
   "version": "3.8.3"
  }
 },
 "nbformat": 4,
 "nbformat_minor": 4
}
