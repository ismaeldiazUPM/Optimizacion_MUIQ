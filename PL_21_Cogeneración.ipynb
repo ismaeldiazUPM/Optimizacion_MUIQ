{
 "cells": [
  {
   "cell_type": "markdown",
   "metadata": {},
   "source": [
    "### Ejercicio 20: Cogeneración"
   ]
  },
  {
   "cell_type": "code",
   "execution_count": 5,
   "metadata": {},
   "outputs": [
    {
     "data": {
      "text/html": [
       "<div>\n",
       "<style scoped>\n",
       "    .dataframe tbody tr th:only-of-type {\n",
       "        vertical-align: middle;\n",
       "    }\n",
       "\n",
       "    .dataframe tbody tr th {\n",
       "        vertical-align: top;\n",
       "    }\n",
       "\n",
       "    .dataframe thead th {\n",
       "        text-align: right;\n",
       "    }\n",
       "</style>\n",
       "<table border=\"1\" class=\"dataframe\">\n",
       "  <thead>\n",
       "    <tr style=\"text-align: right;\">\n",
       "      <th></th>\n",
       "      <th>%Azufre</th>\n",
       "      <th>Coste</th>\n",
       "      <th>Podercalor</th>\n",
       "    </tr>\n",
       "  </thead>\n",
       "  <tbody>\n",
       "    <tr>\n",
       "      <th>Gas</th>\n",
       "      <td>0.12</td>\n",
       "      <td>55</td>\n",
       "      <td>16.944444</td>\n",
       "    </tr>\n",
       "    <tr>\n",
       "      <th>Fuel</th>\n",
       "      <td>0.45</td>\n",
       "      <td>41</td>\n",
       "      <td>12.500000</td>\n",
       "    </tr>\n",
       "    <tr>\n",
       "      <th>Carbon</th>\n",
       "      <td>2.80</td>\n",
       "      <td>28</td>\n",
       "      <td>10.555556</td>\n",
       "    </tr>\n",
       "  </tbody>\n",
       "</table>\n",
       "</div>"
      ],
      "text/plain": [
       "        %Azufre  Coste  Podercalor\n",
       "Gas        0.12     55   16.944444\n",
       "Fuel       0.45     41   12.500000\n",
       "Carbon     2.80     28   10.555556"
      ]
     },
     "execution_count": 5,
     "metadata": {},
     "output_type": "execute_result"
    }
   ],
   "source": [
    "from pyomo.environ import *\n",
    "import pandas as pd\n",
    "model = ConcreteModel()\n",
    "\n",
    "df = pd.DataFrame({'%Azufre': [0.12,0.45,2.8],'Coste': [55,41,28],'Podercalor':[61000/3600,45000/3600,38000/3600]}, index = ['Gas', 'Fuel', 'Carbon'])\n",
    "df"
   ]
  },
  {
   "cell_type": "code",
   "execution_count": 13,
   "metadata": {},
   "outputs": [
    {
     "name": "stdout",
     "output_type": "stream",
     "text": [
      "WARNING: Implicitly replacing the Component attribute c (type=<class\n",
      "    'pyomo.core.base.set.OrderedScalarSet'>) on block unknown with a new\n",
      "    Component (type=<class 'pyomo.core.base.set.AbstractOrderedScalarSet'>).\n",
      "    This is usually indicative of a modelling error. To avoid this warning,\n",
      "    use block.del_component() and block.add_component().\n",
      "WARNING: Implicitly replacing the Component attribute F (type=<class\n",
      "    'pyomo.core.base.var.IndexedVar'>) on block unknown with a new Component\n",
      "    (type=<class 'pyomo.core.base.var.IndexedVar'>). This is usually\n",
      "    indicative of a modelling error. To avoid this warning, use\n",
      "    block.del_component() and block.add_component().\n",
      "WARNING: Implicitly replacing the Component attribute azufre (type=<class\n",
      "    'pyomo.core.base.constraint.ScalarConstraint'>) on block unknown with a\n",
      "    new Component (type=<class\n",
      "    'pyomo.core.base.constraint.AbstractScalarConstraint'>). This is usually\n",
      "    indicative of a modelling error. To avoid this warning, use\n",
      "    block.del_component() and block.add_component().\n",
      "WARNING: Implicitly replacing the Component attribute potencia (type=<class\n",
      "    'pyomo.core.base.constraint.ScalarConstraint'>) on block unknown with a\n",
      "    new Component (type=<class\n",
      "    'pyomo.core.base.constraint.AbstractScalarConstraint'>). This is usually\n",
      "    indicative of a modelling error. To avoid this warning, use\n",
      "    block.del_component() and block.add_component().\n"
     ]
    }
   ],
   "source": [
    "model.c = Set(initialize = df.index)\n",
    "model.F = Var(model.c, within = NonNegativeReals)\n",
    "model.azufre = Constraint(expr = sum(model.F[c]*df['%Azufre'][c] for c in model.c)<=2.5*sum(model.F[c] for c in model.c) )\n",
    "model.potencia = Constraint(expr = sum(model.F[c]*df['Podercalor'][c]*1000 for c in model.c)>=4000)\n",
    "model.cost = Objective(expr = sum(model.F[c]*df['Coste'][c] for c in model.c))"
   ]
  },
  {
   "cell_type": "code",
   "execution_count": 14,
   "metadata": {},
   "outputs": [
    {
     "name": "stdout",
     "output_type": "stream",
     "text": [
      "1 Set Declarations\n",
      "    c : Size=1, Index=None, Ordered=Insertion\n",
      "        Key  : Dimen : Domain : Size : Members\n",
      "        None :     1 :    Any :    3 : {'Gas', 'Fuel', 'Carbon'}\n",
      "\n",
      "1 Var Declarations\n",
      "    F : Size=3, Index=c\n",
      "        Key    : Lower : Value              : Upper : Fixed : Stale : Domain\n",
      "        Carbon :     0 :  0.322975929978118 :  None : False : False : NonNegativeReals\n",
      "          Fuel :     0 : 0.0472647702407002 :  None : False : False : NonNegativeReals\n",
      "           Gas :     0 :                0.0 :  None : False : False : NonNegativeReals\n",
      "\n",
      "1 Objective Declarations\n",
      "    cost : Size=1, Index=None, Active=True\n",
      "        Key  : Active : Sense    : Expression\n",
      "        None :   True : minimize : 55*F[Gas] + 41*F[Fuel] + 28*F[Carbon]\n",
      "\n",
      "2 Constraint Declarations\n",
      "    azufre : Size=1, Index=None, Active=True\n",
      "        Key  : Lower : Body                                                                            : Upper : Active\n",
      "        None :  -Inf : 0.12*F[Gas] + 0.45*F[Fuel] + 2.8*F[Carbon] - 2.5*(F[Gas] + F[Fuel] + F[Carbon]) :   0.0 :   True\n",
      "    potencia : Size=1, Index=None, Active=True\n",
      "        Key  : Lower  : Body                                                                      : Upper : Active\n",
      "        None : 4000.0 : 16944.44444444444*F[Gas] + 12500.0*F[Fuel] + 10555.555555555555*F[Carbon] :  +Inf :   True\n",
      "\n",
      "5 Declarations: c F azufre potencia cost\n",
      "# ==========================================================\n",
      "# = Solver Results                                         =\n",
      "# ==========================================================\n",
      "# ----------------------------------------------------------\n",
      "#   Problem Information\n",
      "# ----------------------------------------------------------\n",
      "Problem: \n",
      "- Name: unknown\n",
      "  Lower bound: 10.981181619256\n",
      "  Upper bound: 10.981181619256\n",
      "  Number of objectives: 1\n",
      "  Number of constraints: 3\n",
      "  Number of variables: 4\n",
      "  Number of nonzeros: 7\n",
      "  Sense: minimize\n",
      "# ----------------------------------------------------------\n",
      "#   Solver Information\n",
      "# ----------------------------------------------------------\n",
      "Solver: \n",
      "- Status: ok\n",
      "  Termination condition: optimal\n",
      "  Statistics: \n",
      "    Branch and bound: \n",
      "      Number of bounded subproblems: 0\n",
      "      Number of created subproblems: 0\n",
      "  Error rc: 0\n",
      "  Time: 0.050461530685424805\n",
      "# ----------------------------------------------------------\n",
      "#   Solution Information\n",
      "# ----------------------------------------------------------\n",
      "Solution: \n",
      "- number of solutions: 0\n",
      "  number of solutions displayed: 0\n"
     ]
    }
   ],
   "source": [
    "results = SolverFactory('glpk').solve(model)\n",
    "model.pprint()\n",
    "results.write() "
   ]
  }
 ],
 "metadata": {
  "interpreter": {
   "hash": "4f9d9337daf846ced0c84725cedcf300d9cb4409c84744f0880fbba17c0ad285"
  },
  "kernelspec": {
   "display_name": "Python 3.8.5 64-bit ('base': conda)",
   "name": "python3"
  },
  "language_info": {
   "codemirror_mode": {
    "name": "ipython",
    "version": 3
   },
   "file_extension": ".py",
   "mimetype": "text/x-python",
   "name": "python",
   "nbconvert_exporter": "python",
   "pygments_lexer": "ipython3",
   "version": "3.8.5"
  },
  "orig_nbformat": 4
 },
 "nbformat": 4,
 "nbformat_minor": 2
}
