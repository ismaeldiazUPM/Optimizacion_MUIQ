{
 "cells": [
  {
   "cell_type": "markdown",
   "metadata": {},
   "source": [
    "### Ejercicio 19: Blending"
   ]
  },
  {
   "cell_type": "code",
   "execution_count": 27,
   "metadata": {},
   "outputs": [],
   "source": [
    "from pyomo.environ import *\n",
    "import numpy as np\n",
    "import pandas as pd\n",
    "model = ConcreteModel()"
   ]
  },
  {
   "cell_type": "code",
   "execution_count": 28,
   "metadata": {},
   "outputs": [],
   "source": [
    "df = pd.DataFrame({'MaxDisp': [3000,2000,4000,1000], 'Coste': [13,15.3,14.6,14.9]}, index=[1,2,3,4])\n",
    "df2 = pd.DataFrame({'Precio': [16.2, 15.75, 15.3]}, index=['A', 'B', 'C'])\n",
    "\n",
    "model.c = Set(initialize=df.index)\n",
    "model.g = Set(initialize=df2.index)\n",
    "\n",
    "model.F = Var(model.c,model.g, domain= NonNegativeReals)"
   ]
  },
  {
   "cell_type": "code",
   "execution_count": 29,
   "metadata": {},
   "outputs": [],
   "source": [
    "model.A1 = Constraint(expr=model.F[1,'A']-0.15*sum(model.F[i,'A'] for i in model.c)<=0)\n",
    "model.A2 = Constraint(expr=model.F[2,'A']-0.4*sum(model.F[i,'A'] for i in model.c)>=0)\n",
    "model.A3 = Constraint(expr=model.F[3,'A']-0.5*sum(model.F[i,'A'] for i in model.c)<=0)\n",
    "model.B1 = Constraint(expr=model.F[1,'B']-0.1*sum(model.F[i,'B'] for i in model.c)<=0)\n",
    "model.B2 = Constraint(expr=model.F[2,'B']-0.1*sum(model.F[i,'B'] for i in model.c)<=0)\n",
    "model.C1 = Constraint(expr=model.F[1,'C']-0.2*sum(model.F[i,'C'] for i in model.c)<=0)\n",
    "\n",
    "model.disp = ConstraintList()\n",
    "for i in model.c:\n",
    "    model.disp.add(\n",
    "        sum(model.F[i,j] for j in model.g)<=df['MaxDisp'][i]\n",
    "    )"
   ]
  },
  {
   "cell_type": "code",
   "execution_count": 30,
   "metadata": {},
   "outputs": [],
   "source": [
    "model.profit = Objective(expr=sum(sum(model.F[i,j] for i in model.c)*df2['Precio'][j] for j in model.g)-\n",
    "sum(sum(model.F[i,j] for j in model.g)*df['Coste'][i] for i in model.c), sense=maximize)"
   ]
  },
  {
   "cell_type": "code",
   "execution_count": 31,
   "metadata": {},
   "outputs": [
    {
     "name": "stdout",
     "output_type": "stream",
     "text": [
      "# ==========================================================\n",
      "# = Solver Results                                         =\n",
      "# ==========================================================\n",
      "# ----------------------------------------------------------\n",
      "#   Problem Information\n",
      "# ----------------------------------------------------------\n",
      "Problem: \n",
      "- Name: unknown\n",
      "  Lower bound: 11502.7777777778\n",
      "  Upper bound: 11502.7777777778\n",
      "  Number of objectives: 1\n",
      "  Number of constraints: 11\n",
      "  Number of variables: 13\n",
      "  Number of nonzeros: 37\n",
      "  Sense: maximize\n",
      "# ----------------------------------------------------------\n",
      "#   Solver Information\n",
      "# ----------------------------------------------------------\n",
      "Solver: \n",
      "- Status: ok\n",
      "  Termination condition: optimal\n",
      "  Statistics: \n",
      "    Branch and bound: \n",
      "      Number of bounded subproblems: 0\n",
      "      Number of created subproblems: 0\n",
      "  Error rc: 0\n",
      "  Time: 0.050115108489990234\n",
      "# ----------------------------------------------------------\n",
      "#   Solution Information\n",
      "# ----------------------------------------------------------\n",
      "Solution: \n",
      "- number of solutions: 0\n",
      "  number of solutions displayed: 0\n",
      "4 Set Declarations\n",
      "    F_index : Size=1, Index=None, Ordered=True\n",
      "        Key  : Dimen : Domain : Size : Members\n",
      "        None :     2 :    c*g :   12 : {(1, 'A'), (1, 'B'), (1, 'C'), (2, 'A'), (2, 'B'), (2, 'C'), (3, 'A'), (3, 'B'), (3, 'C'), (4, 'A'), (4, 'B'), (4, 'C')}\n",
      "    c : Size=1, Index=None, Ordered=Insertion\n",
      "        Key  : Dimen : Domain : Size : Members\n",
      "        None :     1 :    Any :    4 : {1, 2, 3, 4}\n",
      "    disp_index : Size=1, Index=None, Ordered=Insertion\n",
      "        Key  : Dimen : Domain : Size : Members\n",
      "        None :     1 :    Any :    4 : {1, 2, 3, 4}\n",
      "    g : Size=1, Index=None, Ordered=Insertion\n",
      "        Key  : Dimen : Domain : Size : Members\n",
      "        None :     1 :    Any :    3 : {'A', 'B', 'C'}\n",
      "\n",
      "1 Var Declarations\n",
      "    F : Size=12, Index=F_index\n",
      "        Key      : Lower : Value            : Upper : Fixed : Stale : Domain\n",
      "        (1, 'A') :     0 :            750.0 :  None : False : False : NonNegativeReals\n",
      "        (1, 'B') :     0 : 305.555555555556 :  None : False : False : NonNegativeReals\n",
      "        (1, 'C') :     0 :              0.0 :  None : False : False : NonNegativeReals\n",
      "        (2, 'A') :     0 :           2000.0 :  None : False : False : NonNegativeReals\n",
      "        (2, 'B') :     0 :              0.0 :  None : False : False : NonNegativeReals\n",
      "        (2, 'C') :     0 :              0.0 :  None : False : False : NonNegativeReals\n",
      "        (3, 'A') :     0 :           2250.0 :  None : False : False : NonNegativeReals\n",
      "        (3, 'B') :     0 :           1750.0 :  None : False : False : NonNegativeReals\n",
      "        (3, 'C') :     0 :              0.0 :  None : False : False : NonNegativeReals\n",
      "        (4, 'A') :     0 :              0.0 :  None : False : False : NonNegativeReals\n",
      "        (4, 'B') :     0 :           1000.0 :  None : False : False : NonNegativeReals\n",
      "        (4, 'C') :     0 :              0.0 :  None : False : False : NonNegativeReals\n",
      "\n",
      "1 Objective Declarations\n",
      "    profit : Size=1, Index=None, Active=True\n",
      "        Key  : Active : Sense    : Expression\n",
      "        None :   True : maximize : (F[1,A] + F[2,A] + F[3,A] + F[4,A])*16.2 + (F[1,B] + F[2,B] + F[3,B] + F[4,B])*15.75 + (F[1,C] + F[2,C] + F[3,C] + F[4,C])*15.3 - ((F[1,A] + F[1,B] + F[1,C])*13.0 + (F[2,A] + F[2,B] + F[2,C])*15.3 + (F[3,A] + F[3,B] + F[3,C])*14.6 + (F[4,A] + F[4,B] + F[4,C])*14.9)\n",
      "\n",
      "7 Constraint Declarations\n",
      "    A1 : Size=1, Index=None, Active=True\n",
      "        Key  : Lower : Body                                              : Upper : Active\n",
      "        None :  -Inf : F[1,A] - 0.15*(F[1,A] + F[2,A] + F[3,A] + F[4,A]) :   0.0 :   True\n",
      "    A2 : Size=1, Index=None, Active=True\n",
      "        Key  : Lower : Body                                             : Upper : Active\n",
      "        None :   0.0 : F[2,A] - 0.4*(F[1,A] + F[2,A] + F[3,A] + F[4,A]) :  +Inf :   True\n",
      "    A3 : Size=1, Index=None, Active=True\n",
      "        Key  : Lower : Body                                             : Upper : Active\n",
      "        None :  -Inf : F[3,A] - 0.5*(F[1,A] + F[2,A] + F[3,A] + F[4,A]) :   0.0 :   True\n",
      "    B1 : Size=1, Index=None, Active=True\n",
      "        Key  : Lower : Body                                             : Upper : Active\n",
      "        None :  -Inf : F[1,B] - 0.1*(F[1,B] + F[2,B] + F[3,B] + F[4,B]) :   0.0 :   True\n",
      "    B2 : Size=1, Index=None, Active=True\n",
      "        Key  : Lower : Body                                             : Upper : Active\n",
      "        None :  -Inf : F[2,B] - 0.1*(F[1,B] + F[2,B] + F[3,B] + F[4,B]) :   0.0 :   True\n",
      "    C1 : Size=1, Index=None, Active=True\n",
      "        Key  : Lower : Body                                             : Upper : Active\n",
      "        None :  -Inf : F[1,C] - 0.2*(F[1,C] + F[2,C] + F[3,C] + F[4,C]) :   0.0 :   True\n",
      "    disp : Size=4, Index=disp_index, Active=True\n",
      "        Key : Lower : Body                     : Upper  : Active\n",
      "          1 :  -Inf : F[1,A] + F[1,B] + F[1,C] : 3000.0 :   True\n",
      "          2 :  -Inf : F[2,A] + F[2,B] + F[2,C] : 2000.0 :   True\n",
      "          3 :  -Inf : F[3,A] + F[3,B] + F[3,C] : 4000.0 :   True\n",
      "          4 :  -Inf : F[4,A] + F[4,B] + F[4,C] : 1000.0 :   True\n",
      "\n",
      "13 Declarations: c g F_index F A1 A2 A3 B1 B2 C1 disp_index disp profit\n"
     ]
    }
   ],
   "source": [
    "results = SolverFactory('glpk').solve(model)\n",
    "results.write() \n",
    "model.write('Resultados/Ej19.lp', io_options={'symbolic_solver_labels': True})\n",
    "model.pprint()"
   ]
  }
 ],
 "metadata": {
  "interpreter": {
   "hash": "4f9d9337daf846ced0c84725cedcf300d9cb4409c84744f0880fbba17c0ad285"
  },
  "kernelspec": {
   "display_name": "Python 3.8.5 64-bit ('base': conda)",
   "name": "python3"
  },
  "language_info": {
   "codemirror_mode": {
    "name": "ipython",
    "version": 3
   },
   "file_extension": ".py",
   "mimetype": "text/x-python",
   "name": "python",
   "nbconvert_exporter": "python",
   "pygments_lexer": "ipython3",
   "version": "3.8.5"
  },
  "orig_nbformat": 4
 },
 "nbformat": 4,
 "nbformat_minor": 2
}
