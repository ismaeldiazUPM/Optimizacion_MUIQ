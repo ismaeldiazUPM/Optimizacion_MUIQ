{
 "cells": [
  {
   "cell_type": "markdown",
   "metadata": {},
   "source": [
    "### Ejercicio 3: Introducción a la optimización"
   ]
  },
  {
   "cell_type": "markdown",
   "metadata": {},
   "source": [
    "Una empresa produce dos productos (x e y) con un beneficio neto de 40 y 30 $/kg respectivamente. Sin embargo, por restricciones de demanda, solo se pueden producir como mucho 40 kg de x en cada lote. Por capacidad de la planta solo se pueden producir 80 kg de productos totales. El almacenamiento de los productos también es una limitación, no pudiéndose almacenar más de 100 m3 de productos (densidad de 2.1 m3/kg y 1.7 m3/kg de x e y respectivamente). Establezca cuál es la cantidad óptima de x e y que se pueden producir"
   ]
  },
  {
   "cell_type": "markdown",
   "metadata": {},
   "source": [
    "$$\n",
    "\\begin{align}\n",
    "\t&\\text{max }  && z=40x+30y &&\\\\\n",
    "\t&\\text{s.t. }  && x    \\le  40\\\\\n",
    "\t&  && x+y \\le  80\\\\\n",
    "    &  && 2.1x+1.7y \\le100 \\\\\n",
    "    & && x,y \\geq  0  \\\\\n",
    "\\end{align}\n",
    "$$"
   ]
  },
  {
   "cell_type": "markdown",
   "metadata": {},
   "source": [
    "#### El primer paso será instalar Pyomo y dos solvers (ipopt y glpk)"
   ]
  },
  {
   "cell_type": "markdown",
   "metadata": {},
   "source": [
    "Esto lo ejecutamos desde el terminal de Anaconda:\n",
    "\n",
    "conda install -c conda-forge pyomo\n",
    "\n",
    "conda install -c conda-forge ipopt=3.11.1 glpk"
   ]
  },
  {
   "cell_type": "code",
   "execution_count": 1,
   "metadata": {},
   "outputs": [
    {
     "name": "stdout",
     "output_type": "stream",
     "text": [
      "\n",
      "Pyomo Solvers and Solver Managers\n",
      "---------------------------------\n",
      "Pyomo uses 'solver managers' to execute 'solvers' that perform\n",
      "optimization and other forms of model analysis.  A solver directly\n",
      "executes an optimizer, typically using an executable found on the\n",
      "user's PATH environment.  Solver managers support a flexible mechanism\n",
      "for asyncronously executing solvers either locally or remotely.  The\n",
      "following solver managers are available in Pyomo:\n",
      "\n",
      "    neos       Asynchronously execute solvers on the NEOS server\n",
      "    serial     Synchronously execute solvers locally\n",
      "\n",
      "If no solver manager is specified, Pyomo uses the serial solver\n",
      "manager to execute solvers locally.  The neos solver manager is used\n",
      "to execute solvers on the NEOS optimization server.\n",
      "\n",
      "\n",
      "Serial Solver Interfaces\n",
      "------------------------\n",
      "The serial manager supports the following solver interfaces:\n",
      "\n",
      "    appsi_cbc                   Automated persistent interface to Cbc\n",
      "    appsi_cplex                 Automated persistent interface to\n",
      "                                Cplex\n",
      "    appsi_gurobi                Automated persistent interface to\n",
      "                                Gurobi\n",
      "    appsi_ipopt                 Automated persistent interface to\n",
      "                                Ipopt\n",
      "   *asl                         Interface for solvers using the AMPL\n",
      "                                Solver Library\n",
      "    baron                       The BARON MINLP solver\n",
      "    cbc                         The CBC LP/MIP solver\n",
      "    conopt                      The CONOPT NLP solver\n",
      "    contrib.gjh                 Interface to the AMPL GJH \"solver\"\n",
      "    cplex                       The CPLEX LP/MIP solver\n",
      "    cplex_direct                Direct python interface to CPLEX\n",
      "    cplex_persistent            Persistent python interface to CPLEX\n",
      "    cyipopt                     Cyipopt: direct python bindings to the\n",
      "                                Ipopt NLP solver\n",
      "    gams                        The GAMS modeling language\n",
      "   +gdpopt            22.5.13   The GDPopt decomposition-based\n",
      "                                Generalized Disjunctive Programming\n",
      "                                (GDP) solver\n",
      "   +gdpopt.gloa       22.5.13   The GLOA (global logic-based outer\n",
      "                                approximation) Generalized Disjunctive\n",
      "                                Programming (GDP) solver\n",
      "   +gdpopt.lbb        22.5.13   The LBB (logic-based branch and bound)\n",
      "                                Generalized Disjunctive Programming\n",
      "                                (GDP) solver\n",
      "   +gdpopt.loa        22.5.13   The LOA (logic-based outer\n",
      "                                approximation) Generalized Disjunctive\n",
      "                                Programming (GDP) solver\n",
      "   +gdpopt.ric        22.5.13   The RIC (relaxation with integer cuts)\n",
      "                                Generalized Disjunctive Programming\n",
      "                                (GDP) solver\n",
      "   +glpk              5.0       The GLPK LP/MIP solver\n",
      "    gurobi                      The GUROBI LP/MIP solver\n",
      "    gurobi_direct               Direct python interface to Gurobi\n",
      "    gurobi_persistent           Persistent python interface to Gurobi\n",
      "    ipopt                       The Ipopt NLP solver\n",
      "   +mindtpy           0.1       MindtPy: Mixed-Integer Nonlinear\n",
      "                                Decomposition Toolbox in Pyomo\n",
      "    mosek                       The MOSEK LP/QP/SOCP/MIP solver\n",
      "    mosek_direct                Direct python interface to MOSEK\n",
      "    mosek_persistent            Persistent python interface to MOSEK.\n",
      "   +mpec_minlp                  MPEC solver transforms to a MINLP\n",
      "   +mpec_nlp                    MPEC solver that optimizes a nonlinear\n",
      "                                transformation\n",
      "   +multistart                  MultiStart solver for NLPs\n",
      "    path                        Nonlinear MCP solver\n",
      "   *py                          Direct python solver interfaces\n",
      "    scip                        The SCIP LP/MIP solver\n",
      "   +trustregion       0...2...0 Trust region algorithm \"solver\" for\n",
      "                                black box/glass box optimization\n",
      "    xpress                      The XPRESS LP/MIP solver\n",
      "    xpress_direct               Direct python interface to XPRESS\n",
      "    xpress_persistent           Persistent python interface to Xpress\n",
      "\n",
      "The leading symbol (one of *, -, +) indicates the current solver\n",
      "availability.  A plus (+) indicates the solver is currently available\n",
      "to be run from Pyomo with the serial solver manager, and (if\n",
      "applicable) has a valid license.  A minus (-) indicates the solver\n",
      "executables are available but do not report having a valid license.\n",
      "The solver may still be usable in an unlicensed or \"demo\" mode for\n",
      "limited problem sizes. An asterisk (*) indicates meta-solvers or\n",
      "generic interfaces, which are always available.\n",
      "\n",
      "Pyomo also supports solver interfaces that are wrappers around third-\n",
      "party solver interfaces. These interfaces require a subsolver\n",
      "specification that indicates the solver being executed.  For example,\n",
      "the following indicates that the ipopt solver will be used:\n",
      "\n",
      "   asl:ipopt\n",
      "\n",
      "The asl interface provides a generic wrapper for all solvers that use\n",
      "the AMPL Solver Library.\n",
      "\n",
      "Note that subsolvers can not be enumerated automatically for these\n",
      "interfaces.  However, if a solver is specified that is not found,\n",
      "Pyomo assumes that the asl solver interface is being used.  Thus the\n",
      "following solver name will launch ipopt if the 'ipopt' executable is\n",
      "on the user's path:\n",
      "\n",
      "   ipopt\n",
      "\n",
      "\n",
      "NEOS Solver Interfaces\n",
      "----------------------\n",
      "The neos solver manager supports solver interfaces that can be\n",
      "executed remotely on the NEOS optimization server.  The following\n",
      "solver interfaces are available with your current system\n",
      "configuration:\n",
      "\n",
      "    bonmin       Heuristic MINLP solver\n",
      "    cbc          MILP solver\n",
      "    conopt       Feasible path NLP solver\n",
      "    couenne      Deterministic global MINLP solver\n",
      "    cplex        MILP solver\n",
      "    filmint      Heuristic MINLP solver\n",
      "    filter       SQP NLP solver\n",
      "    ipopt        Interior point NLP solver\n",
      "    knitro       Convex MINLP solver\n",
      "    l-bfgs-b     Bound-constrained NLP solver\n",
      "    lancelot     Augmented Lagrangian NLP solver\n",
      "    lgo          Lipschitz-Continuous Global Optimizer\n",
      "    loqo         Interior point NLP solver\n",
      "    minlp        Heuristic MINLP solver\n",
      "    minos        SLC NLP solver\n",
      "    minto        MILP solver\n",
      "    mosek        Interior point NLP solver\n",
      "    octeract     Deterministic global MINLP solver\n",
      "    ooqp         Convex QP solver\n",
      "    path         Nonlinear MCP solver\n",
      "    raposa       A Global Solver for Polynomial Programming Problems\n",
      "    snopt        SQP NLP solver\n",
      "\n"
     ]
    }
   ],
   "source": [
    "!pyomo help --solvers"
   ]
  },
  {
   "cell_type": "markdown",
   "metadata": {},
   "source": [
    "#### Importamos Pyomo"
   ]
  },
  {
   "cell_type": "code",
   "execution_count": 2,
   "metadata": {},
   "outputs": [],
   "source": [
    "from pyomo.environ import *"
   ]
  },
  {
   "cell_type": "markdown",
   "metadata": {},
   "source": [
    "#### Creamos un problema concreto, es decir, un objeto de la clase problema que ya contenga parámetros"
   ]
  },
  {
   "cell_type": "code",
   "execution_count": 3,
   "metadata": {},
   "outputs": [],
   "source": [
    "model = ConcreteModel()"
   ]
  },
  {
   "cell_type": "markdown",
   "metadata": {},
   "source": [
    "#### Definimos las variables como no negativas"
   ]
  },
  {
   "cell_type": "code",
   "execution_count": 4,
   "metadata": {},
   "outputs": [],
   "source": [
    "model.x = Var(domain=NonNegativeReals)\n",
    "model.y = Var(domain=NonNegativeReals)"
   ]
  },
  {
   "cell_type": "markdown",
   "metadata": {},
   "source": [
    "#### Definimos la función objetivo"
   ]
  },
  {
   "cell_type": "code",
   "execution_count": 5,
   "metadata": {},
   "outputs": [],
   "source": [
    "model.profit = Objective(expr = 40*model.x + 30*model.y,\n",
    "                         sense=maximize)"
   ]
  },
  {
   "cell_type": "markdown",
   "metadata": {},
   "source": [
    "#### Definimos la restricciones"
   ]
  },
  {
   "cell_type": "code",
   "execution_count": 6,
   "metadata": {},
   "outputs": [],
   "source": [
    "model.demand = Constraint(expr = model.x <= 40)\n",
    "model.laborA = Constraint(expr = model.x + model.y <= 80)\n",
    "model.laborB = Constraint(expr = 2.1*model.x + 1.7*model.y <= 100)"
   ]
  },
  {
   "cell_type": "code",
   "execution_count": 7,
   "metadata": {},
   "outputs": [
    {
     "name": "stdout",
     "output_type": "stream",
     "text": [
      "2 Var Declarations\n",
      "    x : Size=1, Index=None\n",
      "        Key  : Lower : Value : Upper : Fixed : Stale : Domain\n",
      "        None :     0 :  40.0 :  None : False : False : NonNegativeReals\n",
      "    y : Size=1, Index=None\n",
      "        Key  : Lower : Value            : Upper : Fixed : Stale : Domain\n",
      "        None :     0 : 9.41176470588235 :  None : False : False : NonNegativeReals\n",
      "\n",
      "1 Objective Declarations\n",
      "    profit : Size=1, Index=None, Active=True\n",
      "        Key  : Active : Sense    : Expression\n",
      "        None :   True : maximize : 40*x + 30*y\n",
      "\n",
      "3 Constraint Declarations\n",
      "    demand : Size=1, Index=None, Active=True\n",
      "        Key  : Lower : Body : Upper : Active\n",
      "        None :  -Inf :    x :  40.0 :   True\n",
      "    laborA : Size=1, Index=None, Active=True\n",
      "        Key  : Lower : Body  : Upper : Active\n",
      "        None :  -Inf : x + y :  80.0 :   True\n",
      "    laborB : Size=1, Index=None, Active=True\n",
      "        Key  : Lower : Body          : Upper : Active\n",
      "        None :  -Inf : 2.1*x + 1.7*y : 100.0 :   True\n",
      "\n",
      "6 Declarations: x y profit demand laborA laborB\n",
      "# ==========================================================\n",
      "# = Solver Results                                         =\n",
      "# ==========================================================\n",
      "# ----------------------------------------------------------\n",
      "#   Problem Information\n",
      "# ----------------------------------------------------------\n",
      "Problem: \n",
      "- Name: unknown\n",
      "  Lower bound: 1882.35294117647\n",
      "  Upper bound: 1882.35294117647\n",
      "  Number of objectives: 1\n",
      "  Number of constraints: 4\n",
      "  Number of variables: 3\n",
      "  Number of nonzeros: 6\n",
      "  Sense: maximize\n",
      "# ----------------------------------------------------------\n",
      "#   Solver Information\n",
      "# ----------------------------------------------------------\n",
      "Solver: \n",
      "- Status: ok\n",
      "  Termination condition: optimal\n",
      "  Statistics: \n",
      "    Branch and bound: \n",
      "      Number of bounded subproblems: 0\n",
      "      Number of created subproblems: 0\n",
      "  Error rc: 0\n",
      "  Time: 0.034569740295410156\n",
      "# ----------------------------------------------------------\n",
      "#   Solution Information\n",
      "# ----------------------------------------------------------\n",
      "Solution: \n",
      "- number of solutions: 0\n",
      "  number of solutions displayed: 0\n"
     ]
    }
   ],
   "source": [
    "results = SolverFactory('glpk').solve(model)\n",
    "model.pprint()\n",
    "results.write()   "
   ]
  },
  {
   "cell_type": "code",
   "execution_count": 8,
   "metadata": {},
   "outputs": [
    {
     "data": {
      "text/plain": [
       "40.0"
      ]
     },
     "execution_count": 8,
     "metadata": {},
     "output_type": "execute_result"
    }
   ],
   "source": [
    "model.x.value"
   ]
  },
  {
   "cell_type": "code",
   "execution_count": 9,
   "metadata": {},
   "outputs": [
    {
     "data": {
      "text/plain": [
       "9.41176470588235"
      ]
     },
     "execution_count": 9,
     "metadata": {},
     "output_type": "execute_result"
    }
   ],
   "source": [
    "model.y.value"
   ]
  },
  {
   "cell_type": "code",
   "execution_count": 10,
   "metadata": {},
   "outputs": [
    {
     "data": {
      "text/plain": [
       "1882.3529411764705"
      ]
     },
     "execution_count": 10,
     "metadata": {},
     "output_type": "execute_result"
    }
   ],
   "source": [
    "model.profit.expr()"
   ]
  }
 ],
 "metadata": {
  "kernelspec": {
   "display_name": "Python 3.9.12 ('base')",
   "language": "python",
   "name": "python3"
  },
  "language_info": {
   "codemirror_mode": {
    "name": "ipython",
    "version": 3
   },
   "file_extension": ".py",
   "mimetype": "text/x-python",
   "name": "python",
   "nbconvert_exporter": "python",
   "pygments_lexer": "ipython3",
   "version": "3.9.12"
  },
  "vscode": {
   "interpreter": {
    "hash": "e06ff7da33dc9620448857a90ad8b5f428f0d573d205a934d2841c8aee45ea32"
   }
  }
 },
 "nbformat": 4,
 "nbformat_minor": 4
}
