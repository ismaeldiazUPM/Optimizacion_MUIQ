{
 "cells": [
  {
   "cell_type": "markdown",
   "metadata": {},
   "source": [
    "### Ejercicio 10: Introducción a la optimización"
   ]
  },
  {
   "cell_type": "markdown",
   "metadata": {},
   "source": [
    "Se tiene una granja con una superficie total de 100 hectáreas. En dicha granja se puede plantar\n",
    "maíz, trigo o algodón. Por cada hectárea de maíz plantada se obtiene un beneficio de 109 euros,\n",
    "de trigo 90 euros y de algodón 115 euros. Por cada hectárea plantada de maíz se necesitan 6h\n",
    "de trabajo manual, de trigo 4h y de algodón 8h. El número total de horas disponible de trabajo\n",
    "es de 500 durante la \u0013epoca de plantación. ¿Cuál es la distribución óptima de la plantación? I.e.\n",
    "¿cuántas hectáreas se han de plantar de cada cultivo?"
   ]
  },
  {
   "cell_type": "markdown",
   "metadata": {},
   "source": [
    "#### Importamos Pyomo"
   ]
  },
  {
   "cell_type": "code",
   "execution_count": 13,
   "metadata": {},
   "outputs": [],
   "source": [
    "from pyomo.environ import *"
   ]
  },
  {
   "cell_type": "markdown",
   "metadata": {},
   "source": [
    "#### Creamos un problema concreto, es decir, un objeto de la clase problema que ya contenga parámetros"
   ]
  },
  {
   "cell_type": "code",
   "execution_count": 14,
   "metadata": {},
   "outputs": [],
   "source": [
    "model = ConcreteModel()"
   ]
  },
  {
   "cell_type": "markdown",
   "metadata": {},
   "source": [
    "#### Definimos las variables como no negativas"
   ]
  },
  {
   "cell_type": "code",
   "execution_count": 15,
   "metadata": {},
   "outputs": [],
   "source": [
    "model.Xmaiz = Var(domain=NonNegativeReals)\n",
    "model.Xtrigo = Var(domain=NonNegativeReals)\n",
    "model.Xalgodon = Var(domain=NonNegativeReals)"
   ]
  },
  {
   "cell_type": "markdown",
   "metadata": {},
   "source": [
    "#### Definimos la función objetivo"
   ]
  },
  {
   "cell_type": "code",
   "execution_count": 16,
   "metadata": {},
   "outputs": [],
   "source": [
    "model.profit = Objective(expr = 109*model.Xmaiz+90*model.Xtrigo+115*model.Xalgodon,\n",
    "                         sense=maximize)"
   ]
  },
  {
   "cell_type": "markdown",
   "metadata": {},
   "source": [
    "#### Definimos la restricciones"
   ]
  },
  {
   "cell_type": "code",
   "execution_count": 17,
   "metadata": {},
   "outputs": [],
   "source": [
    "model.land = Constraint(expr = model.Xmaiz+model.Xtrigo+model.Xalgodon <= 100)\n",
    "model.CalabourntB = Constraint(expr = 6*model.Xmaiz+4*model.Xtrigo+8*model.Xalgodon <= 500)"
   ]
  },
  {
   "cell_type": "code",
   "execution_count": 18,
   "metadata": {},
   "outputs": [
    {
     "name": "stdout",
     "output_type": "stream",
     "text": [
      "3 Var Declarations\n",
      "    Xalgodon : Size=1, Index=None\n",
      "        Key  : Lower : Value : Upper : Fixed : Stale : Domain\n",
      "        None :     0 :   0.0 :  None : False : False : NonNegativeReals\n",
      "    Xmaiz : Size=1, Index=None\n",
      "        Key  : Lower : Value : Upper : Fixed : Stale : Domain\n",
      "        None :     0 :  50.0 :  None : False : False : NonNegativeReals\n",
      "    Xtrigo : Size=1, Index=None\n",
      "        Key  : Lower : Value : Upper : Fixed : Stale : Domain\n",
      "        None :     0 :  50.0 :  None : False : False : NonNegativeReals\n",
      "\n",
      "1 Objective Declarations\n",
      "    profit : Size=1, Index=None, Active=True\n",
      "        Key  : Active : Sense    : Expression\n",
      "        None :   True : maximize : 109*Xmaiz + 90*Xtrigo + 115*Xalgodon\n",
      "\n",
      "2 Constraint Declarations\n",
      "    CalabourntB : Size=1, Index=None, Active=True\n",
      "        Key  : Lower : Body                            : Upper : Active\n",
      "        None :  -Inf : 6*Xmaiz + 4*Xtrigo + 8*Xalgodon : 500.0 :   True\n",
      "    land : Size=1, Index=None, Active=True\n",
      "        Key  : Lower : Body                      : Upper : Active\n",
      "        None :  -Inf : Xmaiz + Xtrigo + Xalgodon : 100.0 :   True\n",
      "\n",
      "6 Declarations: Xmaiz Xtrigo Xalgodon profit land CalabourntB\n",
      "# ==========================================================\n",
      "# = Solver Results                                         =\n",
      "# ==========================================================\n",
      "# ----------------------------------------------------------\n",
      "#   Problem Information\n",
      "# ----------------------------------------------------------\n",
      "Problem: \n",
      "- Name: unknown\n",
      "  Lower bound: 9950.0\n",
      "  Upper bound: 9950.0\n",
      "  Number of objectives: 1\n",
      "  Number of constraints: 3\n",
      "  Number of variables: 4\n",
      "  Number of nonzeros: 7\n",
      "  Sense: maximize\n",
      "# ----------------------------------------------------------\n",
      "#   Solver Information\n",
      "# ----------------------------------------------------------\n",
      "Solver: \n",
      "- Status: ok\n",
      "  Termination condition: optimal\n",
      "  Statistics: \n",
      "    Branch and bound: \n",
      "      Number of bounded subproblems: 0\n",
      "      Number of created subproblems: 0\n",
      "  Error rc: 0\n",
      "  Time: 0.06582331657409668\n",
      "# ----------------------------------------------------------\n",
      "#   Solution Information\n",
      "# ----------------------------------------------------------\n",
      "Solution: \n",
      "- number of solutions: 0\n",
      "  number of solutions displayed: 0\n"
     ]
    }
   ],
   "source": [
    "results = SolverFactory('glpk').solve(model)\n",
    "model.pprint()\n",
    "results.write()   "
   ]
  }
 ],
 "metadata": {
  "interpreter": {
   "hash": "11ffc019a02cc0e21e59860b66c88ea81995ce9237607e8ab2c087a287ee4867"
  },
  "kernelspec": {
   "display_name": "Python 3.8.3 64-bit ('base': conda)",
   "name": "python3"
  },
  "language_info": {
   "codemirror_mode": {
    "name": "ipython",
    "version": 3
   },
   "file_extension": ".py",
   "mimetype": "text/x-python",
   "name": "python",
   "nbconvert_exporter": "python",
   "pygments_lexer": "ipython3",
   "version": "3.8.3"
  }
 },
 "nbformat": 4,
 "nbformat_minor": 4
}
